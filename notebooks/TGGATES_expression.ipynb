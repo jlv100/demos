{
 "cells": [
  {
   "cell_type": "code",
   "execution_count": 2,
   "metadata": {},
   "outputs": [],
   "source": [
    "library(affy)\n",
    "library(affycoretools)"
   ]
  },
  {
   "cell_type": "code",
   "execution_count": 3,
   "metadata": {},
   "outputs": [],
   "source": [
    "main <- read.csv('data/TGGATES/open_tggates_main.csv',header=TRUE,fileEncoding='LATIN1')"
   ]
  },
  {
   "cell_type": "code",
   "execution_count": 4,
   "metadata": {},
   "outputs": [
    {
     "data": {
      "text/html": [
       "<table>\n",
       "<thead><tr><th scope=col>COMPOUND_NAME</th><th scope=col>COMPOUND_ABBREVIATION</th><th scope=col>COMPOUND_NO</th><th scope=col>Human...in.vitro</th><th scope=col>Rat...in.vitro</th><th scope=col>Rat...in.vivo...Liver...Single</th><th scope=col>Rat...in.vivo...Liver...Repeat</th><th scope=col>Rat...in.vivo...Kidney...Single</th><th scope=col>Rat...in.vivo...Kidney...Repeat</th></tr></thead>\n",
       "<tbody>\n",
       "\t<tr><td>1% cholesterol + 0.25% sodium cholate                                                                                                                   </td><td>CH+DS-Na                                                                                                                                                </td><td>00161                                                                                                                                                   </td><td>                                                                                                                                                        </td><td>                                                                                                                                                        </td><td>                                                                                                                                                        </td><td>ftp://ftp.biosciencedbc.jp/archive/open-tggates/LATEST/Rat/in_vivo/Liver/Repeat/1%25_cholesterol_%2B_0.25%25_sodium_cholate.Rat.in_vivo.Liver.Repeat.zip</td><td>                                                                                                                                                        </td><td>                                                                                                                                                        </td></tr>\n",
       "\t<tr><td>2,4-dinitrophenol                                                                                                                                       </td><td>DNP                                                                                                                                                     </td><td>00154                                                                                                                                                   </td><td>ftp://ftp.biosciencedbc.jp/archive/open-tggates/LATEST/Human/in_vitro/2%2C4-dinitrophenol.Human.in_vitro.Liver.zip                                      </td><td>                                                                                                                                                        </td><td>ftp://ftp.biosciencedbc.jp/archive/open-tggates/LATEST/Rat/in_vivo/Liver/Single/2%2C4-dinitrophenol.Rat.in_vivo.Liver.Single.zip                        </td><td>ftp://ftp.biosciencedbc.jp/archive/open-tggates/LATEST/Rat/in_vivo/Liver/Repeat/2%2C4-dinitrophenol.Rat.in_vivo.Liver.Repeat.zip                        </td><td>                                                                                                                                                        </td><td>                                                                                                                                                        </td></tr>\n",
       "\t<tr><td>2-nitrofluorene                                                                                                                                         </td><td>2NF                                                                                                                                                     </td><td>00160                                                                                                                                                   </td><td>ftp://ftp.biosciencedbc.jp/archive/open-tggates/LATEST/Human/in_vitro/2-nitrofluorene.Human.in_vitro.Liver.zip                                          </td><td>                                                                                                                                                        </td><td>ftp://ftp.biosciencedbc.jp/archive/open-tggates/LATEST/Rat/in_vivo/Liver/Single/2-nitrofluorene.Rat.in_vivo.Liver.Single.zip                            </td><td>                                                                                                                                                        </td><td>                                                                                                                                                        </td><td>                                                                                                                                                        </td></tr>\n",
       "\t<tr><td>3-methylcholanthrene                                                                                                                                    </td><td>3-MC                                                                                                                                                    </td><td>00166                                                                                                                                                   </td><td>                                                                                                                                                        </td><td>                                                                                                                                                        </td><td>ftp://ftp.biosciencedbc.jp/archive/open-tggates/LATEST/Rat/in_vivo/Liver/Single/3-methylcholanthrene.Rat.in_vivo.Liver.Single.zip                       </td><td>                                                                                                                                                        </td><td>                                                                                                                                                        </td><td>                                                                                                                                                        </td></tr>\n",
       "\t<tr><td>acarbose                                                                                                                                                </td><td>ACA                                                                                                                                                     </td><td>00116                                                                                                                                                   </td><td>ftp://ftp.biosciencedbc.jp/archive/open-tggates/LATEST/Human/in_vitro/acarbose.Human.in_vitro.Liver.zip                                                 </td><td>ftp://ftp.biosciencedbc.jp/archive/open-tggates/LATEST/Rat/in_vitro/acarbose.Rat.in_vitro.Liver.zip                                                     </td><td>ftp://ftp.biosciencedbc.jp/archive/open-tggates/LATEST/Rat/in_vivo/Liver/Single/acarbose.Rat.in_vivo.Liver.Single.zip                                   </td><td>ftp://ftp.biosciencedbc.jp/archive/open-tggates/LATEST/Rat/in_vivo/Liver/Repeat/acarbose.Rat.in_vivo.Liver.Repeat.zip                                   </td><td>                                                                                                                                                        </td><td>                                                                                                                                                        </td></tr>\n",
       "\t<tr><td>acetamide                                                                                                                                               </td><td>AAA                                                                                                                                                     </td><td>00169                                                                                                                                                   </td><td>ftp://ftp.biosciencedbc.jp/archive/open-tggates/LATEST/Human/in_vitro/acetamide.Human.in_vitro.Liver.zip                                                </td><td>                                                                                                                                                        </td><td>                                                                                                                                                        </td><td>ftp://ftp.biosciencedbc.jp/archive/open-tggates/LATEST/Rat/in_vivo/Liver/Repeat/acetamide.Rat.in_vivo.Liver.Repeat.zip                                  </td><td>                                                                                                                                                        </td><td>                                                                                                                                                        </td></tr>\n",
       "</tbody>\n",
       "</table>\n"
      ],
      "text/latex": [
       "\\begin{tabular}{r|lllllllll}\n",
       " COMPOUND\\_NAME & COMPOUND\\_ABBREVIATION & COMPOUND\\_NO & Human...in.vitro & Rat...in.vitro & Rat...in.vivo...Liver...Single & Rat...in.vivo...Liver...Repeat & Rat...in.vivo...Kidney...Single & Rat...in.vivo...Kidney...Repeat\\\\\n",
       "\\hline\n",
       "\t 1\\% cholesterol + 0.25\\% sodium cholate                                                                                                                                    & CH+DS-Na                                                                                                                                                                     & 00161                                                                                                                                                                        &                                                                                                                                                                              &                                                                                                                                                                              &                                                                                                                                                                              & ftp://ftp.biosciencedbc.jp/archive/open-tggates/LATEST/Rat/in\\_vivo/Liver/Repeat/1\\%25\\_cholesterol\\_\\%2B\\_0.25\\%25\\_sodium\\_cholate.Rat.in\\_vivo.Liver.Repeat.zip &                                                                                                                                                                              &                                                                                                                                                                             \\\\\n",
       "\t 2,4-dinitrophenol                                                                                                                                              & DNP                                                                                                                                                            & 00154                                                                                                                                                          & ftp://ftp.biosciencedbc.jp/archive/open-tggates/LATEST/Human/in\\_vitro/2\\%2C4-dinitrophenol.Human.in\\_vitro.Liver.zip                                       &                                                                                                                                                                & ftp://ftp.biosciencedbc.jp/archive/open-tggates/LATEST/Rat/in\\_vivo/Liver/Single/2\\%2C4-dinitrophenol.Rat.in\\_vivo.Liver.Single.zip                         & ftp://ftp.biosciencedbc.jp/archive/open-tggates/LATEST/Rat/in\\_vivo/Liver/Repeat/2\\%2C4-dinitrophenol.Rat.in\\_vivo.Liver.Repeat.zip                         &                                                                                                                                                                &                                                                                                                                                               \\\\\n",
       "\t 2-nitrofluorene                                                                                                                                          & 2NF                                                                                                                                                      & 00160                                                                                                                                                    & ftp://ftp.biosciencedbc.jp/archive/open-tggates/LATEST/Human/in\\_vitro/2-nitrofluorene.Human.in\\_vitro.Liver.zip                                       &                                                                                                                                                          & ftp://ftp.biosciencedbc.jp/archive/open-tggates/LATEST/Rat/in\\_vivo/Liver/Single/2-nitrofluorene.Rat.in\\_vivo.Liver.Single.zip                         &                                                                                                                                                          &                                                                                                                                                          &                                                                                                                                                         \\\\\n",
       "\t 3-methylcholanthrene                                                                                                                                     & 3-MC                                                                                                                                                     & 00166                                                                                                                                                    &                                                                                                                                                          &                                                                                                                                                          & ftp://ftp.biosciencedbc.jp/archive/open-tggates/LATEST/Rat/in\\_vivo/Liver/Single/3-methylcholanthrene.Rat.in\\_vivo.Liver.Single.zip                    &                                                                                                                                                          &                                                                                                                                                          &                                                                                                                                                         \\\\\n",
       "\t acarbose                                                                                                                                                     & ACA                                                                                                                                                          & 00116                                                                                                                                                        & ftp://ftp.biosciencedbc.jp/archive/open-tggates/LATEST/Human/in\\_vitro/acarbose.Human.in\\_vitro.Liver.zip                                                  & ftp://ftp.biosciencedbc.jp/archive/open-tggates/LATEST/Rat/in\\_vitro/acarbose.Rat.in\\_vitro.Liver.zip                                                      & ftp://ftp.biosciencedbc.jp/archive/open-tggates/LATEST/Rat/in\\_vivo/Liver/Single/acarbose.Rat.in\\_vivo.Liver.Single.zip                                    & ftp://ftp.biosciencedbc.jp/archive/open-tggates/LATEST/Rat/in\\_vivo/Liver/Repeat/acarbose.Rat.in\\_vivo.Liver.Repeat.zip                                    &                                                                                                                                                              &                                                                                                                                                             \\\\\n",
       "\t acetamide                                                                                                                                                    & AAA                                                                                                                                                          & 00169                                                                                                                                                        & ftp://ftp.biosciencedbc.jp/archive/open-tggates/LATEST/Human/in\\_vitro/acetamide.Human.in\\_vitro.Liver.zip                                                 &                                                                                                                                                              &                                                                                                                                                              & ftp://ftp.biosciencedbc.jp/archive/open-tggates/LATEST/Rat/in\\_vivo/Liver/Repeat/acetamide.Rat.in\\_vivo.Liver.Repeat.zip                                   &                                                                                                                                                              &                                                                                                                                                             \\\\\n",
       "\\end{tabular}\n"
      ],
      "text/markdown": [
       "\n",
       "| COMPOUND_NAME | COMPOUND_ABBREVIATION | COMPOUND_NO | Human...in.vitro | Rat...in.vitro | Rat...in.vivo...Liver...Single | Rat...in.vivo...Liver...Repeat | Rat...in.vivo...Kidney...Single | Rat...in.vivo...Kidney...Repeat |\n",
       "|---|---|---|---|---|---|---|---|---|\n",
       "| 1% cholesterol + 0.25% sodium cholate                                                                                                                    | CH+DS-Na                                                                                                                                                 | 00161                                                                                                                                                    |                                                                                                                                                          |                                                                                                                                                          |                                                                                                                                                          | ftp://ftp.biosciencedbc.jp/archive/open-tggates/LATEST/Rat/in_vivo/Liver/Repeat/1%25_cholesterol_%2B_0.25%25_sodium_cholate.Rat.in_vivo.Liver.Repeat.zip |                                                                                                                                                          |                                                                                                                                                          |\n",
       "| 2,4-dinitrophenol                                                                                                                                        | DNP                                                                                                                                                      | 00154                                                                                                                                                    | ftp://ftp.biosciencedbc.jp/archive/open-tggates/LATEST/Human/in_vitro/2%2C4-dinitrophenol.Human.in_vitro.Liver.zip                                       |                                                                                                                                                          | ftp://ftp.biosciencedbc.jp/archive/open-tggates/LATEST/Rat/in_vivo/Liver/Single/2%2C4-dinitrophenol.Rat.in_vivo.Liver.Single.zip                         | ftp://ftp.biosciencedbc.jp/archive/open-tggates/LATEST/Rat/in_vivo/Liver/Repeat/2%2C4-dinitrophenol.Rat.in_vivo.Liver.Repeat.zip                         |                                                                                                                                                          |                                                                                                                                                          |\n",
       "| 2-nitrofluorene                                                                                                                                          | 2NF                                                                                                                                                      | 00160                                                                                                                                                    | ftp://ftp.biosciencedbc.jp/archive/open-tggates/LATEST/Human/in_vitro/2-nitrofluorene.Human.in_vitro.Liver.zip                                           |                                                                                                                                                          | ftp://ftp.biosciencedbc.jp/archive/open-tggates/LATEST/Rat/in_vivo/Liver/Single/2-nitrofluorene.Rat.in_vivo.Liver.Single.zip                             |                                                                                                                                                          |                                                                                                                                                          |                                                                                                                                                          |\n",
       "| 3-methylcholanthrene                                                                                                                                     | 3-MC                                                                                                                                                     | 00166                                                                                                                                                    |                                                                                                                                                          |                                                                                                                                                          | ftp://ftp.biosciencedbc.jp/archive/open-tggates/LATEST/Rat/in_vivo/Liver/Single/3-methylcholanthrene.Rat.in_vivo.Liver.Single.zip                        |                                                                                                                                                          |                                                                                                                                                          |                                                                                                                                                          |\n",
       "| acarbose                                                                                                                                                 | ACA                                                                                                                                                      | 00116                                                                                                                                                    | ftp://ftp.biosciencedbc.jp/archive/open-tggates/LATEST/Human/in_vitro/acarbose.Human.in_vitro.Liver.zip                                                  | ftp://ftp.biosciencedbc.jp/archive/open-tggates/LATEST/Rat/in_vitro/acarbose.Rat.in_vitro.Liver.zip                                                      | ftp://ftp.biosciencedbc.jp/archive/open-tggates/LATEST/Rat/in_vivo/Liver/Single/acarbose.Rat.in_vivo.Liver.Single.zip                                    | ftp://ftp.biosciencedbc.jp/archive/open-tggates/LATEST/Rat/in_vivo/Liver/Repeat/acarbose.Rat.in_vivo.Liver.Repeat.zip                                    |                                                                                                                                                          |                                                                                                                                                          |\n",
       "| acetamide                                                                                                                                                | AAA                                                                                                                                                      | 00169                                                                                                                                                    | ftp://ftp.biosciencedbc.jp/archive/open-tggates/LATEST/Human/in_vitro/acetamide.Human.in_vitro.Liver.zip                                                 |                                                                                                                                                          |                                                                                                                                                          | ftp://ftp.biosciencedbc.jp/archive/open-tggates/LATEST/Rat/in_vivo/Liver/Repeat/acetamide.Rat.in_vivo.Liver.Repeat.zip                                   |                                                                                                                                                          |                                                                                                                                                          |\n",
       "\n"
      ],
      "text/plain": [
       "  COMPOUND_NAME                         COMPOUND_ABBREVIATION COMPOUND_NO\n",
       "1 1% cholesterol + 0.25% sodium cholate CH+DS-Na              00161      \n",
       "2 2,4-dinitrophenol                     DNP                   00154      \n",
       "3 2-nitrofluorene                       2NF                   00160      \n",
       "4 3-methylcholanthrene                  3-MC                  00166      \n",
       "5 acarbose                              ACA                   00116      \n",
       "6 acetamide                             AAA                   00169      \n",
       "  Human...in.vitro                                                                                                  \n",
       "1                                                                                                                   \n",
       "2 ftp://ftp.biosciencedbc.jp/archive/open-tggates/LATEST/Human/in_vitro/2%2C4-dinitrophenol.Human.in_vitro.Liver.zip\n",
       "3 ftp://ftp.biosciencedbc.jp/archive/open-tggates/LATEST/Human/in_vitro/2-nitrofluorene.Human.in_vitro.Liver.zip    \n",
       "4                                                                                                                   \n",
       "5 ftp://ftp.biosciencedbc.jp/archive/open-tggates/LATEST/Human/in_vitro/acarbose.Human.in_vitro.Liver.zip           \n",
       "6 ftp://ftp.biosciencedbc.jp/archive/open-tggates/LATEST/Human/in_vitro/acetamide.Human.in_vitro.Liver.zip          \n",
       "  Rat...in.vitro                                                                                     \n",
       "1                                                                                                    \n",
       "2                                                                                                    \n",
       "3                                                                                                    \n",
       "4                                                                                                    \n",
       "5 ftp://ftp.biosciencedbc.jp/archive/open-tggates/LATEST/Rat/in_vitro/acarbose.Rat.in_vitro.Liver.zip\n",
       "6                                                                                                    \n",
       "  Rat...in.vivo...Liver...Single                                                                                                   \n",
       "1                                                                                                                                  \n",
       "2 ftp://ftp.biosciencedbc.jp/archive/open-tggates/LATEST/Rat/in_vivo/Liver/Single/2%2C4-dinitrophenol.Rat.in_vivo.Liver.Single.zip \n",
       "3 ftp://ftp.biosciencedbc.jp/archive/open-tggates/LATEST/Rat/in_vivo/Liver/Single/2-nitrofluorene.Rat.in_vivo.Liver.Single.zip     \n",
       "4 ftp://ftp.biosciencedbc.jp/archive/open-tggates/LATEST/Rat/in_vivo/Liver/Single/3-methylcholanthrene.Rat.in_vivo.Liver.Single.zip\n",
       "5 ftp://ftp.biosciencedbc.jp/archive/open-tggates/LATEST/Rat/in_vivo/Liver/Single/acarbose.Rat.in_vivo.Liver.Single.zip            \n",
       "6                                                                                                                                  \n",
       "  Rat...in.vivo...Liver...Repeat                                                                                                                          \n",
       "1 ftp://ftp.biosciencedbc.jp/archive/open-tggates/LATEST/Rat/in_vivo/Liver/Repeat/1%25_cholesterol_%2B_0.25%25_sodium_cholate.Rat.in_vivo.Liver.Repeat.zip\n",
       "2 ftp://ftp.biosciencedbc.jp/archive/open-tggates/LATEST/Rat/in_vivo/Liver/Repeat/2%2C4-dinitrophenol.Rat.in_vivo.Liver.Repeat.zip                        \n",
       "3                                                                                                                                                         \n",
       "4                                                                                                                                                         \n",
       "5 ftp://ftp.biosciencedbc.jp/archive/open-tggates/LATEST/Rat/in_vivo/Liver/Repeat/acarbose.Rat.in_vivo.Liver.Repeat.zip                                   \n",
       "6 ftp://ftp.biosciencedbc.jp/archive/open-tggates/LATEST/Rat/in_vivo/Liver/Repeat/acetamide.Rat.in_vivo.Liver.Repeat.zip                                  \n",
       "  Rat...in.vivo...Kidney...Single Rat...in.vivo...Kidney...Repeat\n",
       "1                                                                \n",
       "2                                                                \n",
       "3                                                                \n",
       "4                                                                \n",
       "5                                                                \n",
       "6                                                                "
      ]
     },
     "metadata": {},
     "output_type": "display_data"
    }
   ],
   "source": [
    "head(main)"
   ]
  },
  {
   "cell_type": "code",
   "execution_count": 5,
   "metadata": {},
   "outputs": [],
   "source": [
    "attfiles <- list.files('data/TGGATES/cel/rat/',pattern='Attribute.tsv',recursive=TRUE,full.names=TRUE)\n",
    "attfiles <- attfiles[!grepl('No ChipData',attfiles)]\n",
    "meta <- do.call(rbind,lapply(\n",
    "    attfiles,\n",
    "    read.delim,sep='\\t',header=TRUE,fileEncoding='LATIN1'\n",
    "))"
   ]
  },
  {
   "cell_type": "code",
   "execution_count": 6,
   "metadata": {},
   "outputs": [
    {
     "data": {
      "text/html": [
       "<ol class=list-inline>\n",
       "\t<li>12701</li>\n",
       "\t<li>66</li>\n",
       "</ol>\n"
      ],
      "text/latex": [
       "\\begin{enumerate*}\n",
       "\\item 12701\n",
       "\\item 66\n",
       "\\end{enumerate*}\n"
      ],
      "text/markdown": [
       "1. 12701\n",
       "2. 66\n",
       "\n",
       "\n"
      ],
      "text/plain": [
       "[1] 12701    66"
      ]
     },
     "metadata": {},
     "output_type": "display_data"
    }
   ],
   "source": [
    "meta <- subset(meta,BARCODE!='No ChipData')\n",
    "dim(meta)"
   ]
  },
  {
   "cell_type": "code",
   "execution_count": 7,
   "metadata": {},
   "outputs": [
    {
     "data": {
      "text/html": [
       "<table>\n",
       "<thead><tr><th scope=col>BARCODE</th><th scope=col>ARR_DESIGN</th><th scope=col>EXP_ID</th><th scope=col>GROUP_ID</th><th scope=col>INDIVIDUAL_ID</th><th scope=col>ORGAN_ID</th><th scope=col>MATERIAL_ID</th><th scope=col>COMPOUND_NAME</th><th scope=col>COMPOUND.Abbr.</th><th scope=col>COMPOUND_NO</th><th scope=col>...</th><th scope=col>IP.mg.dL.</th><th scope=col>TP.g.dL.</th><th scope=col>RALB.g.dL.</th><th scope=col>A.G</th><th scope=col>AST.IU.L.</th><th scope=col>ALT.IU.L.</th><th scope=col>LDH.IU.L.</th><th scope=col>GTP.IU.L.</th><th scope=col>DNA...</th><th scope=col>LDH...</th></tr></thead>\n",
       "<tbody>\n",
       "\t<tr><td>3017337003</td><td>Rat230_2  </td><td>5171      </td><td>1         </td><td>1         </td><td>Liver     </td><td>A         </td><td>acarbose  </td><td>ACA       </td><td>116       </td><td>...       </td><td>NA        </td><td>NA        </td><td>NA        </td><td>NA        </td><td>NA        </td><td>NA        </td><td>NA        </td><td>NA        </td><td>101.2     </td><td>100.2     </td></tr>\n",
       "\t<tr><td>3017337004</td><td>Rat230_2  </td><td>5171      </td><td>1         </td><td>2         </td><td>Liver     </td><td>A         </td><td>acarbose  </td><td>ACA       </td><td>116       </td><td>...       </td><td>NA        </td><td>NA        </td><td>NA        </td><td>NA        </td><td>NA        </td><td>NA        </td><td>NA        </td><td>NA        </td><td> 98.8     </td><td> 99.8     </td></tr>\n",
       "\t<tr><td>3017337011</td><td>Rat230_2  </td><td>5171      </td><td>2         </td><td>1         </td><td>Liver     </td><td>A         </td><td>acarbose  </td><td>ACA       </td><td>116       </td><td>...       </td><td>NA        </td><td>NA        </td><td>NA        </td><td>NA        </td><td>NA        </td><td>NA        </td><td>NA        </td><td>NA        </td><td>102.7     </td><td> 99.5     </td></tr>\n",
       "\t<tr><td>3017337012</td><td>Rat230_2  </td><td>5171      </td><td>2         </td><td>2         </td><td>Liver     </td><td>A         </td><td>acarbose  </td><td>ACA       </td><td>116       </td><td>...       </td><td>NA        </td><td>NA        </td><td>NA        </td><td>NA        </td><td>NA        </td><td>NA        </td><td>NA        </td><td>NA        </td><td> 97.3     </td><td>100.5     </td></tr>\n",
       "\t<tr><td>3017337019</td><td>Rat230_2  </td><td>5171      </td><td>3         </td><td>1         </td><td>Liver     </td><td>A         </td><td>acarbose  </td><td>ACA       </td><td>116       </td><td>...       </td><td>NA        </td><td>NA        </td><td>NA        </td><td>NA        </td><td>NA        </td><td>NA        </td><td>NA        </td><td>NA        </td><td> 97.9     </td><td> 99.6     </td></tr>\n",
       "\t<tr><td>3017337020</td><td>Rat230_2  </td><td>5171      </td><td>3         </td><td>2         </td><td>Liver     </td><td>A         </td><td>acarbose  </td><td>ACA       </td><td>116       </td><td>...       </td><td>NA        </td><td>NA        </td><td>NA        </td><td>NA        </td><td>NA        </td><td>NA        </td><td>NA        </td><td>NA        </td><td>102.1     </td><td>100.4     </td></tr>\n",
       "</tbody>\n",
       "</table>\n"
      ],
      "text/latex": [
       "\\begin{tabular}{r|llllllllllllllllllllllllllllllllllllllllllllllllllllllllllllllllll}\n",
       " BARCODE & ARR\\_DESIGN & EXP\\_ID & GROUP\\_ID & INDIVIDUAL\\_ID & ORGAN\\_ID & MATERIAL\\_ID & COMPOUND\\_NAME & COMPOUND.Abbr. & COMPOUND\\_NO & ... & IP.mg.dL. & TP.g.dL. & RALB.g.dL. & A.G & AST.IU.L. & ALT.IU.L. & LDH.IU.L. & GTP.IU.L. & DNA... & LDH...\\\\\n",
       "\\hline\n",
       "\t 3017337003 & Rat230\\_2 & 5171       & 1          & 1          & Liver      & A          & acarbose   & ACA        & 116        & ...        & NA         & NA         & NA         & NA         & NA         & NA         & NA         & NA         & 101.2      & 100.2     \\\\\n",
       "\t 3017337004 & Rat230\\_2 & 5171       & 1          & 2          & Liver      & A          & acarbose   & ACA        & 116        & ...        & NA         & NA         & NA         & NA         & NA         & NA         & NA         & NA         &  98.8      &  99.8     \\\\\n",
       "\t 3017337011 & Rat230\\_2 & 5171       & 2          & 1          & Liver      & A          & acarbose   & ACA        & 116        & ...        & NA         & NA         & NA         & NA         & NA         & NA         & NA         & NA         & 102.7      &  99.5     \\\\\n",
       "\t 3017337012 & Rat230\\_2 & 5171       & 2          & 2          & Liver      & A          & acarbose   & ACA        & 116        & ...        & NA         & NA         & NA         & NA         & NA         & NA         & NA         & NA         &  97.3      & 100.5     \\\\\n",
       "\t 3017337019 & Rat230\\_2 & 5171       & 3          & 1          & Liver      & A          & acarbose   & ACA        & 116        & ...        & NA         & NA         & NA         & NA         & NA         & NA         & NA         & NA         &  97.9      &  99.6     \\\\\n",
       "\t 3017337020 & Rat230\\_2 & 5171       & 3          & 2          & Liver      & A          & acarbose   & ACA        & 116        & ...        & NA         & NA         & NA         & NA         & NA         & NA         & NA         & NA         & 102.1      & 100.4     \\\\\n",
       "\\end{tabular}\n"
      ],
      "text/markdown": [
       "\n",
       "| BARCODE | ARR_DESIGN | EXP_ID | GROUP_ID | INDIVIDUAL_ID | ORGAN_ID | MATERIAL_ID | COMPOUND_NAME | COMPOUND.Abbr. | COMPOUND_NO | ... | IP.mg.dL. | TP.g.dL. | RALB.g.dL. | A.G | AST.IU.L. | ALT.IU.L. | LDH.IU.L. | GTP.IU.L. | DNA... | LDH... |\n",
       "|---|---|---|---|---|---|---|---|---|---|---|---|---|---|---|---|---|---|---|---|---|\n",
       "| 3017337003 | Rat230_2   | 5171       | 1          | 1          | Liver      | A          | acarbose   | ACA        | 116        | ...        | NA         | NA         | NA         | NA         | NA         | NA         | NA         | NA         | 101.2      | 100.2      |\n",
       "| 3017337004 | Rat230_2   | 5171       | 1          | 2          | Liver      | A          | acarbose   | ACA        | 116        | ...        | NA         | NA         | NA         | NA         | NA         | NA         | NA         | NA         |  98.8      |  99.8      |\n",
       "| 3017337011 | Rat230_2   | 5171       | 2          | 1          | Liver      | A          | acarbose   | ACA        | 116        | ...        | NA         | NA         | NA         | NA         | NA         | NA         | NA         | NA         | 102.7      |  99.5      |\n",
       "| 3017337012 | Rat230_2   | 5171       | 2          | 2          | Liver      | A          | acarbose   | ACA        | 116        | ...        | NA         | NA         | NA         | NA         | NA         | NA         | NA         | NA         |  97.3      | 100.5      |\n",
       "| 3017337019 | Rat230_2   | 5171       | 3          | 1          | Liver      | A          | acarbose   | ACA        | 116        | ...        | NA         | NA         | NA         | NA         | NA         | NA         | NA         | NA         |  97.9      |  99.6      |\n",
       "| 3017337020 | Rat230_2   | 5171       | 3          | 2          | Liver      | A          | acarbose   | ACA        | 116        | ...        | NA         | NA         | NA         | NA         | NA         | NA         | NA         | NA         | 102.1      | 100.4      |\n",
       "\n"
      ],
      "text/plain": [
       "  BARCODE    ARR_DESIGN EXP_ID GROUP_ID INDIVIDUAL_ID ORGAN_ID MATERIAL_ID\n",
       "1 3017337003 Rat230_2   5171   1        1             Liver    A          \n",
       "2 3017337004 Rat230_2   5171   1        2             Liver    A          \n",
       "3 3017337011 Rat230_2   5171   2        1             Liver    A          \n",
       "4 3017337012 Rat230_2   5171   2        2             Liver    A          \n",
       "5 3017337019 Rat230_2   5171   3        1             Liver    A          \n",
       "6 3017337020 Rat230_2   5171   3        2             Liver    A          \n",
       "  COMPOUND_NAME COMPOUND.Abbr. COMPOUND_NO ... IP.mg.dL. TP.g.dL. RALB.g.dL.\n",
       "1 acarbose      ACA            116         ... NA        NA       NA        \n",
       "2 acarbose      ACA            116         ... NA        NA       NA        \n",
       "3 acarbose      ACA            116         ... NA        NA       NA        \n",
       "4 acarbose      ACA            116         ... NA        NA       NA        \n",
       "5 acarbose      ACA            116         ... NA        NA       NA        \n",
       "6 acarbose      ACA            116         ... NA        NA       NA        \n",
       "  A.G AST.IU.L. ALT.IU.L. LDH.IU.L. GTP.IU.L. DNA... LDH...\n",
       "1 NA  NA        NA        NA        NA        101.2  100.2 \n",
       "2 NA  NA        NA        NA        NA         98.8   99.8 \n",
       "3 NA  NA        NA        NA        NA        102.7   99.5 \n",
       "4 NA  NA        NA        NA        NA         97.3  100.5 \n",
       "5 NA  NA        NA        NA        NA         97.9   99.6 \n",
       "6 NA  NA        NA        NA        NA        102.1  100.4 "
      ]
     },
     "metadata": {},
     "output_type": "display_data"
    }
   ],
   "source": [
    "head(meta)"
   ]
  },
  {
   "cell_type": "code",
   "execution_count": 8,
   "metadata": {},
   "outputs": [],
   "source": [
    "celdirs <- list.dirs('data/TGGATES/cel/rat/liver',recursive=TRUE,full.names=TRUE)"
   ]
  },
  {
   "cell_type": "code",
   "execution_count": 9,
   "metadata": {},
   "outputs": [
    {
     "data": {
      "text/html": [
       "<ol class=list-inline>\n",
       "\t<li>'data/TGGATES/cel/rat/liver/2-nitrofluorene.Rat.in_vivo.Liver.Single/celfiles'</li>\n",
       "\t<li>'data/TGGATES/cel/rat/liver/2,4-dinitrophenol.Rat.in_vivo.Liver.Single/celfiles'</li>\n",
       "\t<li>'data/TGGATES/cel/rat/liver/3-methylcholanthrene.Rat.in_vivo.Liver.Single/celfiles'</li>\n",
       "\t<li>'data/TGGATES/cel/rat/liver/acarbose.Rat.in_vivo.Liver.Single/celfiles'</li>\n",
       "\t<li>'data/TGGATES/cel/rat/liver/acetamidofluorene.Rat.in_vivo.Liver.Single/celfiles'</li>\n",
       "\t<li>'data/TGGATES/cel/rat/liver/acetaminophen.Rat.in_vivo.Liver.Single/celfiles'</li>\n",
       "</ol>\n"
      ],
      "text/latex": [
       "\\begin{enumerate*}\n",
       "\\item 'data/TGGATES/cel/rat/liver/2-nitrofluorene.Rat.in\\_vivo.Liver.Single/celfiles'\n",
       "\\item 'data/TGGATES/cel/rat/liver/2,4-dinitrophenol.Rat.in\\_vivo.Liver.Single/celfiles'\n",
       "\\item 'data/TGGATES/cel/rat/liver/3-methylcholanthrene.Rat.in\\_vivo.Liver.Single/celfiles'\n",
       "\\item 'data/TGGATES/cel/rat/liver/acarbose.Rat.in\\_vivo.Liver.Single/celfiles'\n",
       "\\item 'data/TGGATES/cel/rat/liver/acetamidofluorene.Rat.in\\_vivo.Liver.Single/celfiles'\n",
       "\\item 'data/TGGATES/cel/rat/liver/acetaminophen.Rat.in\\_vivo.Liver.Single/celfiles'\n",
       "\\end{enumerate*}\n"
      ],
      "text/markdown": [
       "1. 'data/TGGATES/cel/rat/liver/2-nitrofluorene.Rat.in_vivo.Liver.Single/celfiles'\n",
       "2. 'data/TGGATES/cel/rat/liver/2,4-dinitrophenol.Rat.in_vivo.Liver.Single/celfiles'\n",
       "3. 'data/TGGATES/cel/rat/liver/3-methylcholanthrene.Rat.in_vivo.Liver.Single/celfiles'\n",
       "4. 'data/TGGATES/cel/rat/liver/acarbose.Rat.in_vivo.Liver.Single/celfiles'\n",
       "5. 'data/TGGATES/cel/rat/liver/acetamidofluorene.Rat.in_vivo.Liver.Single/celfiles'\n",
       "6. 'data/TGGATES/cel/rat/liver/acetaminophen.Rat.in_vivo.Liver.Single/celfiles'\n",
       "\n",
       "\n"
      ],
      "text/plain": [
       "[1] \"data/TGGATES/cel/rat/liver/2-nitrofluorene.Rat.in_vivo.Liver.Single/celfiles\"     \n",
       "[2] \"data/TGGATES/cel/rat/liver/2,4-dinitrophenol.Rat.in_vivo.Liver.Single/celfiles\"   \n",
       "[3] \"data/TGGATES/cel/rat/liver/3-methylcholanthrene.Rat.in_vivo.Liver.Single/celfiles\"\n",
       "[4] \"data/TGGATES/cel/rat/liver/acarbose.Rat.in_vivo.Liver.Single/celfiles\"            \n",
       "[5] \"data/TGGATES/cel/rat/liver/acetamidofluorene.Rat.in_vivo.Liver.Single/celfiles\"   \n",
       "[6] \"data/TGGATES/cel/rat/liver/acetaminophen.Rat.in_vivo.Liver.Single/celfiles\"       "
      ]
     },
     "metadata": {},
     "output_type": "display_data"
    }
   ],
   "source": [
    "celdirs <- celdirs[grep('celfiles',celdirs)]\n",
    "head(celdirs)"
   ]
  },
  {
   "cell_type": "code",
   "execution_count": 10,
   "metadata": {},
   "outputs": [
    {
     "data": {
      "text/html": [
       "158"
      ],
      "text/latex": [
       "158"
      ],
      "text/markdown": [
       "158"
      ],
      "text/plain": [
       "[1] 158"
      ]
     },
     "metadata": {},
     "output_type": "display_data"
    }
   ],
   "source": [
    "length(celdirs)"
   ]
  },
  {
   "cell_type": "code",
   "execution_count": 11,
   "metadata": {},
   "outputs": [],
   "source": [
    "celfiles <- list.celfiles(celdirs)"
   ]
  },
  {
   "cell_type": "code",
   "execution_count": 12,
   "metadata": {},
   "outputs": [],
   "source": [
    "matched.names <- sapply(as.character(meta$BARCODE),function(bc){\n",
    "    celfiles[grep(bc,celfiles)][1]\n",
    "})"
   ]
  },
  {
   "cell_type": "code",
   "execution_count": 13,
   "metadata": {},
   "outputs": [
    {
     "data": {
      "text/html": [
       "12701"
      ],
      "text/latex": [
       "12701"
      ],
      "text/markdown": [
       "12701"
      ],
      "text/plain": [
       "[1] 12701"
      ]
     },
     "metadata": {},
     "output_type": "display_data"
    }
   ],
   "source": [
    "length(matched.names)"
   ]
  },
  {
   "cell_type": "code",
   "execution_count": 14,
   "metadata": {},
   "outputs": [],
   "source": [
    "meta <- meta[!is.na(matched.names),]"
   ]
  },
  {
   "cell_type": "code",
   "execution_count": 15,
   "metadata": {},
   "outputs": [
    {
     "data": {
      "text/html": [
       "<ol class=list-inline>\n",
       "\t<li>7378</li>\n",
       "\t<li>66</li>\n",
       "</ol>\n"
      ],
      "text/latex": [
       "\\begin{enumerate*}\n",
       "\\item 7378\n",
       "\\item 66\n",
       "\\end{enumerate*}\n"
      ],
      "text/markdown": [
       "1. 7378\n",
       "2. 66\n",
       "\n",
       "\n"
      ],
      "text/plain": [
       "[1] 7378   66"
      ]
     },
     "metadata": {},
     "output_type": "display_data"
    }
   ],
   "source": [
    "dim(meta)"
   ]
  },
  {
   "cell_type": "code",
   "execution_count": 16,
   "metadata": {},
   "outputs": [],
   "source": [
    "rownames(meta) <- matched.names[!is.na(matched.names)]"
   ]
  },
  {
   "cell_type": "code",
   "execution_count": 17,
   "metadata": {},
   "outputs": [],
   "source": [
    "meta$CEL <- rownames(meta)"
   ]
  },
  {
   "cell_type": "code",
   "execution_count": 18,
   "metadata": {},
   "outputs": [],
   "source": [
    "meta$SACRI_PERIOD <- factor(meta$SACRI_PERIOD,levels=levels(meta$SACRI_PERIOD)[order(as.numeric(gsub(' hr','',levels(meta$SACRI_PERIOD))))])"
   ]
  },
  {
   "cell_type": "code",
   "execution_count": 19,
   "metadata": {},
   "outputs": [
    {
     "data": {
      "text/html": [
       "<ol class=list-inline>\n",
       "\t<li>7378</li>\n",
       "\t<li>67</li>\n",
       "</ol>\n"
      ],
      "text/latex": [
       "\\begin{enumerate*}\n",
       "\\item 7378\n",
       "\\item 67\n",
       "\\end{enumerate*}\n"
      ],
      "text/markdown": [
       "1. 7378\n",
       "2. 67\n",
       "\n",
       "\n"
      ],
      "text/plain": [
       "[1] 7378   67"
      ]
     },
     "metadata": {},
     "output_type": "display_data"
    }
   ],
   "source": [
    "dim(meta)"
   ]
  },
  {
   "cell_type": "code",
   "execution_count": 20,
   "metadata": {},
   "outputs": [
    {
     "data": {
      "text/html": [
       "7378"
      ],
      "text/latex": [
       "7378"
      ],
      "text/markdown": [
       "7378"
      ],
      "text/plain": [
       "[1] 7378"
      ]
     },
     "metadata": {},
     "output_type": "display_data"
    }
   ],
   "source": [
    "length(celfiles)"
   ]
  },
  {
   "cell_type": "code",
   "execution_count": 21,
   "metadata": {},
   "outputs": [
    {
     "data": {
      "text/html": [],
      "text/latex": [],
      "text/markdown": [],
      "text/plain": [
       "character(0)"
      ]
     },
     "metadata": {},
     "output_type": "display_data"
    }
   ],
   "source": [
    "celfiles[!(celfiles %in% rownames(meta))]"
   ]
  },
  {
   "cell_type": "code",
   "execution_count": 22,
   "metadata": {},
   "outputs": [],
   "source": [
    "meta.full <- data.frame(meta)"
   ]
  },
  {
   "cell_type": "code",
   "execution_count": 23,
   "metadata": {},
   "outputs": [],
   "source": [
    "selected.compounds <- levels(meta.full$COMPOUND_NAME)"
   ]
  },
  {
   "cell_type": "raw",
   "metadata": {},
   "source": [
    "selected.compounds <- levels(meta.full$COMPOUND_NAME)[1:3]"
   ]
  },
  {
   "cell_type": "raw",
   "metadata": {},
   "source": [
    "set.seed(456)\n",
    "selected.compounds <- sample(levels(meta.full$COMPOUND_NAME),20)"
   ]
  },
  {
   "cell_type": "raw",
   "metadata": {},
   "source": [
    "selected.compounds <- c(\n",
    "    'acetamidofluorene',\n",
    "    'acetaminophen',\n",
    "    'aspirin',\n",
    "    'carbon tetrachloride',\n",
    "    'colchicine',\n",
    "    'diazepam',\n",
    "    'ethanol',\n",
    "    'ibuprofen',\n",
    "    'tamoxifen',\n",
    "    'tetracycline',\n",
    "    'vitamin A'\n",
    ")"
   ]
  },
  {
   "cell_type": "code",
   "execution_count": 24,
   "metadata": {},
   "outputs": [
    {
     "data": {
      "text/html": [
       "<ol class=list-inline>\n",
       "\t<li>7378</li>\n",
       "\t<li>67</li>\n",
       "</ol>\n"
      ],
      "text/latex": [
       "\\begin{enumerate*}\n",
       "\\item 7378\n",
       "\\item 67\n",
       "\\end{enumerate*}\n"
      ],
      "text/markdown": [
       "1. 7378\n",
       "2. 67\n",
       "\n",
       "\n"
      ],
      "text/plain": [
       "[1] 7378   67"
      ]
     },
     "metadata": {},
     "output_type": "display_data"
    }
   ],
   "source": [
    "meta <- subset(meta.full,COMPOUND_NAME %in% selected.compounds)\n",
    "dim(meta)"
   ]
  },
  {
   "cell_type": "code",
   "execution_count": 25,
   "metadata": {},
   "outputs": [],
   "source": [
    "meta$CEL <- factor(meta$CEL)"
   ]
  },
  {
   "cell_type": "code",
   "execution_count": 26,
   "metadata": {},
   "outputs": [],
   "source": [
    "meta$COMPOUND_NAME <- factor(meta$COMPOUND_NAME)"
   ]
  },
  {
   "cell_type": "code",
   "execution_count": 27,
   "metadata": {},
   "outputs": [],
   "source": [
    "meta$SACRI_PERIOD <- factor(meta$SACRI_PERIOD,levels=levels(meta$SACRI_PERIOD)[order(as.numeric(gsub(' hr','',levels(meta$SACRI_PERIOD))))])"
   ]
  },
  {
   "cell_type": "code",
   "execution_count": 28,
   "metadata": {},
   "outputs": [],
   "source": [
    "combn <- with(meta,paste(ORGAN_ID,COMPOUND_NAME,DOSE,SACRI_PERIOD,sep='.'))\n",
    "ref.idx <- meta$DOSE==0 & meta$SACRI_PERIOD=='3 hr'\n",
    "\n",
    "combn <- relevel(factor(combn),ref=combn[ref.idx][1])"
   ]
  },
  {
   "cell_type": "code",
   "execution_count": 29,
   "metadata": {},
   "outputs": [],
   "source": [
    "meta$combn <- combn"
   ]
  },
  {
   "cell_type": "code",
   "execution_count": 61,
   "metadata": {},
   "outputs": [
    {
     "data": {
      "text/html": [
       "<ol class=list-inline>\n",
       "\t<li>7378</li>\n",
       "\t<li>68</li>\n",
       "</ol>\n"
      ],
      "text/latex": [
       "\\begin{enumerate*}\n",
       "\\item 7378\n",
       "\\item 68\n",
       "\\end{enumerate*}\n"
      ],
      "text/markdown": [
       "1. 7378\n",
       "2. 68\n",
       "\n",
       "\n"
      ],
      "text/plain": [
       "[1] 7378   68"
      ]
     },
     "metadata": {},
     "output_type": "display_data"
    }
   ],
   "source": [
    "dim(meta)"
   ]
  },
  {
   "cell_type": "code",
   "execution_count": 30,
   "metadata": {},
   "outputs": [
    {
     "data": {
      "text/html": [
       "<ol class=list-inline>\n",
       "\t<li>'acarbose'</li>\n",
       "\t<li>'acetamidofluorene'</li>\n",
       "\t<li>'acetaminophen'</li>\n",
       "\t<li>'acetazolamide'</li>\n",
       "\t<li>'adapin'</li>\n",
       "\t<li>'ajmaline'</li>\n",
       "\t<li>'allopurinol'</li>\n",
       "\t<li>'allyl alcohol'</li>\n",
       "\t<li>'amiodarone'</li>\n",
       "\t<li>'amitriptyline'</li>\n",
       "\t<li>'aspirin'</li>\n",
       "\t<li>'azathioprine'</li>\n",
       "\t<li>'bendazac'</li>\n",
       "\t<li>'benzbromarone'</li>\n",
       "\t<li>'benziodarone'</li>\n",
       "\t<li>'bromobenzene'</li>\n",
       "\t<li>'bromoethylamine'</li>\n",
       "\t<li>'bucetin'</li>\n",
       "\t<li>'buthionine sulfoximine'</li>\n",
       "\t<li>'caffeine'</li>\n",
       "\t<li>'captopril'</li>\n",
       "\t<li>'carbamazepine'</li>\n",
       "\t<li>'carbon tetrachloride'</li>\n",
       "\t<li>'carboplatin'</li>\n",
       "\t<li>'cephalothin'</li>\n",
       "\t<li>'chloramphenicol'</li>\n",
       "\t<li>'chlormadinone'</li>\n",
       "\t<li>'chlormezanone'</li>\n",
       "\t<li>'chlorpheniramine'</li>\n",
       "\t<li>'chlorpromazine'</li>\n",
       "\t<li>'chlorpropamide'</li>\n",
       "\t<li>'cimetidine'</li>\n",
       "\t<li>'ciprofloxacin'</li>\n",
       "\t<li>'cisplatin'</li>\n",
       "\t<li>'clofibrate'</li>\n",
       "\t<li>'clomipramine'</li>\n",
       "\t<li>'colchicine'</li>\n",
       "\t<li>'coumarin'</li>\n",
       "\t<li>'cycloheximide'</li>\n",
       "\t<li>'cyclophosphamide'</li>\n",
       "\t<li>'cyclosporine A'</li>\n",
       "\t<li>'danazol'</li>\n",
       "\t<li>'dantrolene'</li>\n",
       "\t<li>'diazepam'</li>\n",
       "\t<li>'diclofenac'</li>\n",
       "\t<li>'diethyl maleate'</li>\n",
       "\t<li>'diltiazem'</li>\n",
       "\t<li>'disopyramide'</li>\n",
       "\t<li>'disulfiram'</li>\n",
       "\t<li>'doxorubicin'</li>\n",
       "\t<li>'enalapril'</li>\n",
       "\t<li>'erythromycin ethylsuccinate'</li>\n",
       "\t<li>'ethambutol'</li>\n",
       "\t<li>'ethanol'</li>\n",
       "\t<li>'ethinylestradiol'</li>\n",
       "\t<li>'ethionamide'</li>\n",
       "\t<li>'ethionine'</li>\n",
       "\t<li>'etoposide'</li>\n",
       "\t<li>'famotidine'</li>\n",
       "\t<li>'fenofibrate'</li>\n",
       "\t<li>'fluphenazine'</li>\n",
       "\t<li>'flutamide'</li>\n",
       "\t<li>'furosemide'</li>\n",
       "\t<li>'galactosamine'</li>\n",
       "\t<li>'gemfibrozil'</li>\n",
       "\t<li>'gentamicin'</li>\n",
       "\t<li>'glibenclamide'</li>\n",
       "\t<li>'griseofulvin'</li>\n",
       "\t<li>'haloperidol'</li>\n",
       "\t<li>'hexachlorobenzene'</li>\n",
       "\t<li>'hydroxyzine'</li>\n",
       "\t<li>'ibuprofen'</li>\n",
       "\t<li>'imipramine'</li>\n",
       "\t<li>'indomethacin'</li>\n",
       "\t<li>'iproniazid'</li>\n",
       "\t<li>'isoniazid'</li>\n",
       "\t<li>'ketoconazole'</li>\n",
       "\t<li>'labetalol'</li>\n",
       "\t<li>'lomustine'</li>\n",
       "\t<li>'lornoxicam'</li>\n",
       "\t<li>'LPS'</li>\n",
       "\t<li>'mefenamic acid'</li>\n",
       "\t<li>'meloxicam'</li>\n",
       "\t<li>'metformin'</li>\n",
       "\t<li>'methapyrilene'</li>\n",
       "\t<li>'methimazole'</li>\n",
       "\t<li>'methyldopa'</li>\n",
       "\t<li>'methyltestosterone'</li>\n",
       "\t<li>'mexiletine'</li>\n",
       "\t<li>'monocrotaline'</li>\n",
       "\t<li>'moxisylyte'</li>\n",
       "\t<li>'naphthyl isothiocyanate'</li>\n",
       "\t<li>'naproxen'</li>\n",
       "\t<li>'nicotinic acid'</li>\n",
       "\t<li>'nifedipine'</li>\n",
       "\t<li>'nimesulide'</li>\n",
       "\t<li>'nitrofurantoin'</li>\n",
       "\t<li>'nitrofurazone'</li>\n",
       "\t<li>'nitrosodiethylamine'</li>\n",
       "\t<li>'omeprazole'</li>\n",
       "\t<li>'papaverine'</li>\n",
       "\t<li>'pemoline'</li>\n",
       "\t<li>'penicillamine'</li>\n",
       "\t<li>'perhexiline'</li>\n",
       "\t<li>'phalloidin'</li>\n",
       "\t<li>'phenacetin'</li>\n",
       "\t<li>'phenobarbital'</li>\n",
       "\t<li>'phenylanthranilic acid'</li>\n",
       "\t<li>'phenylbutazone'</li>\n",
       "\t<li>'phenytoin'</li>\n",
       "\t<li>'phorone'</li>\n",
       "\t<li>'promethazine'</li>\n",
       "\t<li>'propylthiouracil'</li>\n",
       "\t<li>'puromycin aminonucleoside'</li>\n",
       "\t<li>'quinidine'</li>\n",
       "\t<li>'ranitidine'</li>\n",
       "\t<li>'rifampicin'</li>\n",
       "\t<li>'simvastatin'</li>\n",
       "\t<li>'sulfasalazine'</li>\n",
       "\t<li>'sulindac'</li>\n",
       "\t<li>'sulpiride'</li>\n",
       "\t<li>'tacrine'</li>\n",
       "\t<li>'tamoxifen'</li>\n",
       "\t<li>'tannic acid'</li>\n",
       "\t<li>'terbinafine'</li>\n",
       "\t<li>'tetracycline'</li>\n",
       "\t<li>'theophylline'</li>\n",
       "\t<li>'thioacetamide'</li>\n",
       "\t<li>'thioridazine'</li>\n",
       "\t<li>'ticlopidine'</li>\n",
       "\t<li>'tiopronin'</li>\n",
       "\t<li>'TNF\\u0083¿'</li>\n",
       "\t<li>'tolbutamide'</li>\n",
       "\t<li>'triamterene'</li>\n",
       "\t<li>'triazolam'</li>\n",
       "\t<li>'trimethadione'</li>\n",
       "\t<li>'tunicamycin'</li>\n",
       "\t<li>'valproic acid'</li>\n",
       "\t<li>'vitamin A'</li>\n",
       "\t<li>'WY-14643'</li>\n",
       "\t<li>'amphotericin B'</li>\n",
       "\t<li>'desmopressin acetate'</li>\n",
       "\t<li>'2-nitrofluorene'</li>\n",
       "\t<li>'2,4-dinitrophenol'</li>\n",
       "\t<li>'3-methylcholanthrene'</li>\n",
       "\t<li>'aflatoxin B1'</li>\n",
       "\t<li>'bortezomib'</li>\n",
       "\t<li>'butylated hydroxyanisole'</li>\n",
       "\t<li>'dexamethasone'</li>\n",
       "\t<li>'fluoxetine hydrochloride'</li>\n",
       "\t<li>'gefitinib'</li>\n",
       "\t<li>'imatinib, methanesulfonate salt'</li>\n",
       "\t<li>'methylene dianiline'</li>\n",
       "\t<li>'N-methyl-N-nitrosourea'</li>\n",
       "\t<li>'N-nitrosomorpholine'</li>\n",
       "\t<li>'propranolol'</li>\n",
       "\t<li>'rosiglitazone maleate'</li>\n",
       "\t<li>'rotenone'</li>\n",
       "</ol>\n"
      ],
      "text/latex": [
       "\\begin{enumerate*}\n",
       "\\item 'acarbose'\n",
       "\\item 'acetamidofluorene'\n",
       "\\item 'acetaminophen'\n",
       "\\item 'acetazolamide'\n",
       "\\item 'adapin'\n",
       "\\item 'ajmaline'\n",
       "\\item 'allopurinol'\n",
       "\\item 'allyl alcohol'\n",
       "\\item 'amiodarone'\n",
       "\\item 'amitriptyline'\n",
       "\\item 'aspirin'\n",
       "\\item 'azathioprine'\n",
       "\\item 'bendazac'\n",
       "\\item 'benzbromarone'\n",
       "\\item 'benziodarone'\n",
       "\\item 'bromobenzene'\n",
       "\\item 'bromoethylamine'\n",
       "\\item 'bucetin'\n",
       "\\item 'buthionine sulfoximine'\n",
       "\\item 'caffeine'\n",
       "\\item 'captopril'\n",
       "\\item 'carbamazepine'\n",
       "\\item 'carbon tetrachloride'\n",
       "\\item 'carboplatin'\n",
       "\\item 'cephalothin'\n",
       "\\item 'chloramphenicol'\n",
       "\\item 'chlormadinone'\n",
       "\\item 'chlormezanone'\n",
       "\\item 'chlorpheniramine'\n",
       "\\item 'chlorpromazine'\n",
       "\\item 'chlorpropamide'\n",
       "\\item 'cimetidine'\n",
       "\\item 'ciprofloxacin'\n",
       "\\item 'cisplatin'\n",
       "\\item 'clofibrate'\n",
       "\\item 'clomipramine'\n",
       "\\item 'colchicine'\n",
       "\\item 'coumarin'\n",
       "\\item 'cycloheximide'\n",
       "\\item 'cyclophosphamide'\n",
       "\\item 'cyclosporine A'\n",
       "\\item 'danazol'\n",
       "\\item 'dantrolene'\n",
       "\\item 'diazepam'\n",
       "\\item 'diclofenac'\n",
       "\\item 'diethyl maleate'\n",
       "\\item 'diltiazem'\n",
       "\\item 'disopyramide'\n",
       "\\item 'disulfiram'\n",
       "\\item 'doxorubicin'\n",
       "\\item 'enalapril'\n",
       "\\item 'erythromycin ethylsuccinate'\n",
       "\\item 'ethambutol'\n",
       "\\item 'ethanol'\n",
       "\\item 'ethinylestradiol'\n",
       "\\item 'ethionamide'\n",
       "\\item 'ethionine'\n",
       "\\item 'etoposide'\n",
       "\\item 'famotidine'\n",
       "\\item 'fenofibrate'\n",
       "\\item 'fluphenazine'\n",
       "\\item 'flutamide'\n",
       "\\item 'furosemide'\n",
       "\\item 'galactosamine'\n",
       "\\item 'gemfibrozil'\n",
       "\\item 'gentamicin'\n",
       "\\item 'glibenclamide'\n",
       "\\item 'griseofulvin'\n",
       "\\item 'haloperidol'\n",
       "\\item 'hexachlorobenzene'\n",
       "\\item 'hydroxyzine'\n",
       "\\item 'ibuprofen'\n",
       "\\item 'imipramine'\n",
       "\\item 'indomethacin'\n",
       "\\item 'iproniazid'\n",
       "\\item 'isoniazid'\n",
       "\\item 'ketoconazole'\n",
       "\\item 'labetalol'\n",
       "\\item 'lomustine'\n",
       "\\item 'lornoxicam'\n",
       "\\item 'LPS'\n",
       "\\item 'mefenamic acid'\n",
       "\\item 'meloxicam'\n",
       "\\item 'metformin'\n",
       "\\item 'methapyrilene'\n",
       "\\item 'methimazole'\n",
       "\\item 'methyldopa'\n",
       "\\item 'methyltestosterone'\n",
       "\\item 'mexiletine'\n",
       "\\item 'monocrotaline'\n",
       "\\item 'moxisylyte'\n",
       "\\item 'naphthyl isothiocyanate'\n",
       "\\item 'naproxen'\n",
       "\\item 'nicotinic acid'\n",
       "\\item 'nifedipine'\n",
       "\\item 'nimesulide'\n",
       "\\item 'nitrofurantoin'\n",
       "\\item 'nitrofurazone'\n",
       "\\item 'nitrosodiethylamine'\n",
       "\\item 'omeprazole'\n",
       "\\item 'papaverine'\n",
       "\\item 'pemoline'\n",
       "\\item 'penicillamine'\n",
       "\\item 'perhexiline'\n",
       "\\item 'phalloidin'\n",
       "\\item 'phenacetin'\n",
       "\\item 'phenobarbital'\n",
       "\\item 'phenylanthranilic acid'\n",
       "\\item 'phenylbutazone'\n",
       "\\item 'phenytoin'\n",
       "\\item 'phorone'\n",
       "\\item 'promethazine'\n",
       "\\item 'propylthiouracil'\n",
       "\\item 'puromycin aminonucleoside'\n",
       "\\item 'quinidine'\n",
       "\\item 'ranitidine'\n",
       "\\item 'rifampicin'\n",
       "\\item 'simvastatin'\n",
       "\\item 'sulfasalazine'\n",
       "\\item 'sulindac'\n",
       "\\item 'sulpiride'\n",
       "\\item 'tacrine'\n",
       "\\item 'tamoxifen'\n",
       "\\item 'tannic acid'\n",
       "\\item 'terbinafine'\n",
       "\\item 'tetracycline'\n",
       "\\item 'theophylline'\n",
       "\\item 'thioacetamide'\n",
       "\\item 'thioridazine'\n",
       "\\item 'ticlopidine'\n",
       "\\item 'tiopronin'\n",
       "\\item 'TNF\\textbackslash{}u0083¿'\n",
       "\\item 'tolbutamide'\n",
       "\\item 'triamterene'\n",
       "\\item 'triazolam'\n",
       "\\item 'trimethadione'\n",
       "\\item 'tunicamycin'\n",
       "\\item 'valproic acid'\n",
       "\\item 'vitamin A'\n",
       "\\item 'WY-14643'\n",
       "\\item 'amphotericin B'\n",
       "\\item 'desmopressin acetate'\n",
       "\\item '2-nitrofluorene'\n",
       "\\item '2,4-dinitrophenol'\n",
       "\\item '3-methylcholanthrene'\n",
       "\\item 'aflatoxin B1'\n",
       "\\item 'bortezomib'\n",
       "\\item 'butylated hydroxyanisole'\n",
       "\\item 'dexamethasone'\n",
       "\\item 'fluoxetine hydrochloride'\n",
       "\\item 'gefitinib'\n",
       "\\item 'imatinib, methanesulfonate salt'\n",
       "\\item 'methylene dianiline'\n",
       "\\item 'N-methyl-N-nitrosourea'\n",
       "\\item 'N-nitrosomorpholine'\n",
       "\\item 'propranolol'\n",
       "\\item 'rosiglitazone maleate'\n",
       "\\item 'rotenone'\n",
       "\\end{enumerate*}\n"
      ],
      "text/markdown": [
       "1. 'acarbose'\n",
       "2. 'acetamidofluorene'\n",
       "3. 'acetaminophen'\n",
       "4. 'acetazolamide'\n",
       "5. 'adapin'\n",
       "6. 'ajmaline'\n",
       "7. 'allopurinol'\n",
       "8. 'allyl alcohol'\n",
       "9. 'amiodarone'\n",
       "10. 'amitriptyline'\n",
       "11. 'aspirin'\n",
       "12. 'azathioprine'\n",
       "13. 'bendazac'\n",
       "14. 'benzbromarone'\n",
       "15. 'benziodarone'\n",
       "16. 'bromobenzene'\n",
       "17. 'bromoethylamine'\n",
       "18. 'bucetin'\n",
       "19. 'buthionine sulfoximine'\n",
       "20. 'caffeine'\n",
       "21. 'captopril'\n",
       "22. 'carbamazepine'\n",
       "23. 'carbon tetrachloride'\n",
       "24. 'carboplatin'\n",
       "25. 'cephalothin'\n",
       "26. 'chloramphenicol'\n",
       "27. 'chlormadinone'\n",
       "28. 'chlormezanone'\n",
       "29. 'chlorpheniramine'\n",
       "30. 'chlorpromazine'\n",
       "31. 'chlorpropamide'\n",
       "32. 'cimetidine'\n",
       "33. 'ciprofloxacin'\n",
       "34. 'cisplatin'\n",
       "35. 'clofibrate'\n",
       "36. 'clomipramine'\n",
       "37. 'colchicine'\n",
       "38. 'coumarin'\n",
       "39. 'cycloheximide'\n",
       "40. 'cyclophosphamide'\n",
       "41. 'cyclosporine A'\n",
       "42. 'danazol'\n",
       "43. 'dantrolene'\n",
       "44. 'diazepam'\n",
       "45. 'diclofenac'\n",
       "46. 'diethyl maleate'\n",
       "47. 'diltiazem'\n",
       "48. 'disopyramide'\n",
       "49. 'disulfiram'\n",
       "50. 'doxorubicin'\n",
       "51. 'enalapril'\n",
       "52. 'erythromycin ethylsuccinate'\n",
       "53. 'ethambutol'\n",
       "54. 'ethanol'\n",
       "55. 'ethinylestradiol'\n",
       "56. 'ethionamide'\n",
       "57. 'ethionine'\n",
       "58. 'etoposide'\n",
       "59. 'famotidine'\n",
       "60. 'fenofibrate'\n",
       "61. 'fluphenazine'\n",
       "62. 'flutamide'\n",
       "63. 'furosemide'\n",
       "64. 'galactosamine'\n",
       "65. 'gemfibrozil'\n",
       "66. 'gentamicin'\n",
       "67. 'glibenclamide'\n",
       "68. 'griseofulvin'\n",
       "69. 'haloperidol'\n",
       "70. 'hexachlorobenzene'\n",
       "71. 'hydroxyzine'\n",
       "72. 'ibuprofen'\n",
       "73. 'imipramine'\n",
       "74. 'indomethacin'\n",
       "75. 'iproniazid'\n",
       "76. 'isoniazid'\n",
       "77. 'ketoconazole'\n",
       "78. 'labetalol'\n",
       "79. 'lomustine'\n",
       "80. 'lornoxicam'\n",
       "81. 'LPS'\n",
       "82. 'mefenamic acid'\n",
       "83. 'meloxicam'\n",
       "84. 'metformin'\n",
       "85. 'methapyrilene'\n",
       "86. 'methimazole'\n",
       "87. 'methyldopa'\n",
       "88. 'methyltestosterone'\n",
       "89. 'mexiletine'\n",
       "90. 'monocrotaline'\n",
       "91. 'moxisylyte'\n",
       "92. 'naphthyl isothiocyanate'\n",
       "93. 'naproxen'\n",
       "94. 'nicotinic acid'\n",
       "95. 'nifedipine'\n",
       "96. 'nimesulide'\n",
       "97. 'nitrofurantoin'\n",
       "98. 'nitrofurazone'\n",
       "99. 'nitrosodiethylamine'\n",
       "100. 'omeprazole'\n",
       "101. 'papaverine'\n",
       "102. 'pemoline'\n",
       "103. 'penicillamine'\n",
       "104. 'perhexiline'\n",
       "105. 'phalloidin'\n",
       "106. 'phenacetin'\n",
       "107. 'phenobarbital'\n",
       "108. 'phenylanthranilic acid'\n",
       "109. 'phenylbutazone'\n",
       "110. 'phenytoin'\n",
       "111. 'phorone'\n",
       "112. 'promethazine'\n",
       "113. 'propylthiouracil'\n",
       "114. 'puromycin aminonucleoside'\n",
       "115. 'quinidine'\n",
       "116. 'ranitidine'\n",
       "117. 'rifampicin'\n",
       "118. 'simvastatin'\n",
       "119. 'sulfasalazine'\n",
       "120. 'sulindac'\n",
       "121. 'sulpiride'\n",
       "122. 'tacrine'\n",
       "123. 'tamoxifen'\n",
       "124. 'tannic acid'\n",
       "125. 'terbinafine'\n",
       "126. 'tetracycline'\n",
       "127. 'theophylline'\n",
       "128. 'thioacetamide'\n",
       "129. 'thioridazine'\n",
       "130. 'ticlopidine'\n",
       "131. 'tiopronin'\n",
       "132. 'TNF\\u0083¿'\n",
       "133. 'tolbutamide'\n",
       "134. 'triamterene'\n",
       "135. 'triazolam'\n",
       "136. 'trimethadione'\n",
       "137. 'tunicamycin'\n",
       "138. 'valproic acid'\n",
       "139. 'vitamin A'\n",
       "140. 'WY-14643'\n",
       "141. 'amphotericin B'\n",
       "142. 'desmopressin acetate'\n",
       "143. '2-nitrofluorene'\n",
       "144. '2,4-dinitrophenol'\n",
       "145. '3-methylcholanthrene'\n",
       "146. 'aflatoxin B1'\n",
       "147. 'bortezomib'\n",
       "148. 'butylated hydroxyanisole'\n",
       "149. 'dexamethasone'\n",
       "150. 'fluoxetine hydrochloride'\n",
       "151. 'gefitinib'\n",
       "152. 'imatinib, methanesulfonate salt'\n",
       "153. 'methylene dianiline'\n",
       "154. 'N-methyl-N-nitrosourea'\n",
       "155. 'N-nitrosomorpholine'\n",
       "156. 'propranolol'\n",
       "157. 'rosiglitazone maleate'\n",
       "158. 'rotenone'\n",
       "\n",
       "\n"
      ],
      "text/plain": [
       "  [1] \"acarbose\"                        \"acetamidofluorene\"              \n",
       "  [3] \"acetaminophen\"                   \"acetazolamide\"                  \n",
       "  [5] \"adapin\"                          \"ajmaline\"                       \n",
       "  [7] \"allopurinol\"                     \"allyl alcohol\"                  \n",
       "  [9] \"amiodarone\"                      \"amitriptyline\"                  \n",
       " [11] \"aspirin\"                         \"azathioprine\"                   \n",
       " [13] \"bendazac\"                        \"benzbromarone\"                  \n",
       " [15] \"benziodarone\"                    \"bromobenzene\"                   \n",
       " [17] \"bromoethylamine\"                 \"bucetin\"                        \n",
       " [19] \"buthionine sulfoximine\"          \"caffeine\"                       \n",
       " [21] \"captopril\"                       \"carbamazepine\"                  \n",
       " [23] \"carbon tetrachloride\"            \"carboplatin\"                    \n",
       " [25] \"cephalothin\"                     \"chloramphenicol\"                \n",
       " [27] \"chlormadinone\"                   \"chlormezanone\"                  \n",
       " [29] \"chlorpheniramine\"                \"chlorpromazine\"                 \n",
       " [31] \"chlorpropamide\"                  \"cimetidine\"                     \n",
       " [33] \"ciprofloxacin\"                   \"cisplatin\"                      \n",
       " [35] \"clofibrate\"                      \"clomipramine\"                   \n",
       " [37] \"colchicine\"                      \"coumarin\"                       \n",
       " [39] \"cycloheximide\"                   \"cyclophosphamide\"               \n",
       " [41] \"cyclosporine A\"                  \"danazol\"                        \n",
       " [43] \"dantrolene\"                      \"diazepam\"                       \n",
       " [45] \"diclofenac\"                      \"diethyl maleate\"                \n",
       " [47] \"diltiazem\"                       \"disopyramide\"                   \n",
       " [49] \"disulfiram\"                      \"doxorubicin\"                    \n",
       " [51] \"enalapril\"                       \"erythromycin ethylsuccinate\"    \n",
       " [53] \"ethambutol\"                      \"ethanol\"                        \n",
       " [55] \"ethinylestradiol\"                \"ethionamide\"                    \n",
       " [57] \"ethionine\"                       \"etoposide\"                      \n",
       " [59] \"famotidine\"                      \"fenofibrate\"                    \n",
       " [61] \"fluphenazine\"                    \"flutamide\"                      \n",
       " [63] \"furosemide\"                      \"galactosamine\"                  \n",
       " [65] \"gemfibrozil\"                     \"gentamicin\"                     \n",
       " [67] \"glibenclamide\"                   \"griseofulvin\"                   \n",
       " [69] \"haloperidol\"                     \"hexachlorobenzene\"              \n",
       " [71] \"hydroxyzine\"                     \"ibuprofen\"                      \n",
       " [73] \"imipramine\"                      \"indomethacin\"                   \n",
       " [75] \"iproniazid\"                      \"isoniazid\"                      \n",
       " [77] \"ketoconazole\"                    \"labetalol\"                      \n",
       " [79] \"lomustine\"                       \"lornoxicam\"                     \n",
       " [81] \"LPS\"                             \"mefenamic acid\"                 \n",
       " [83] \"meloxicam\"                       \"metformin\"                      \n",
       " [85] \"methapyrilene\"                   \"methimazole\"                    \n",
       " [87] \"methyldopa\"                      \"methyltestosterone\"             \n",
       " [89] \"mexiletine\"                      \"monocrotaline\"                  \n",
       " [91] \"moxisylyte\"                      \"naphthyl isothiocyanate\"        \n",
       " [93] \"naproxen\"                        \"nicotinic acid\"                 \n",
       " [95] \"nifedipine\"                      \"nimesulide\"                     \n",
       " [97] \"nitrofurantoin\"                  \"nitrofurazone\"                  \n",
       " [99] \"nitrosodiethylamine\"             \"omeprazole\"                     \n",
       "[101] \"papaverine\"                      \"pemoline\"                       \n",
       "[103] \"penicillamine\"                   \"perhexiline\"                    \n",
       "[105] \"phalloidin\"                      \"phenacetin\"                     \n",
       "[107] \"phenobarbital\"                   \"phenylanthranilic acid\"         \n",
       "[109] \"phenylbutazone\"                  \"phenytoin\"                      \n",
       "[111] \"phorone\"                         \"promethazine\"                   \n",
       "[113] \"propylthiouracil\"                \"puromycin aminonucleoside\"      \n",
       "[115] \"quinidine\"                       \"ranitidine\"                     \n",
       "[117] \"rifampicin\"                      \"simvastatin\"                    \n",
       "[119] \"sulfasalazine\"                   \"sulindac\"                       \n",
       "[121] \"sulpiride\"                       \"tacrine\"                        \n",
       "[123] \"tamoxifen\"                       \"tannic acid\"                    \n",
       "[125] \"terbinafine\"                     \"tetracycline\"                   \n",
       "[127] \"theophylline\"                    \"thioacetamide\"                  \n",
       "[129] \"thioridazine\"                    \"ticlopidine\"                    \n",
       "[131] \"tiopronin\"                       \"TNF\\u0083¿\"                     \n",
       "[133] \"tolbutamide\"                     \"triamterene\"                    \n",
       "[135] \"triazolam\"                       \"trimethadione\"                  \n",
       "[137] \"tunicamycin\"                     \"valproic acid\"                  \n",
       "[139] \"vitamin A\"                       \"WY-14643\"                       \n",
       "[141] \"amphotericin B\"                  \"desmopressin acetate\"           \n",
       "[143] \"2-nitrofluorene\"                 \"2,4-dinitrophenol\"              \n",
       "[145] \"3-methylcholanthrene\"            \"aflatoxin B1\"                   \n",
       "[147] \"bortezomib\"                      \"butylated hydroxyanisole\"       \n",
       "[149] \"dexamethasone\"                   \"fluoxetine hydrochloride\"       \n",
       "[151] \"gefitinib\"                       \"imatinib, methanesulfonate salt\"\n",
       "[153] \"methylene dianiline\"             \"N-methyl-N-nitrosourea\"         \n",
       "[155] \"N-nitrosomorpholine\"             \"propranolol\"                    \n",
       "[157] \"rosiglitazone maleate\"           \"rotenone\"                       "
      ]
     },
     "metadata": {},
     "output_type": "display_data"
    }
   ],
   "source": [
    "levels(meta$COMPOUND_NAME)"
   ]
  },
  {
   "cell_type": "code",
   "execution_count": 31,
   "metadata": {},
   "outputs": [
    {
     "data": {
      "text/html": [
       "<table>\n",
       "<thead><tr><th></th><th scope=col>BARCODE</th><th scope=col>ARR_DESIGN</th><th scope=col>EXP_ID</th><th scope=col>GROUP_ID</th><th scope=col>INDIVIDUAL_ID</th><th scope=col>ORGAN_ID</th><th scope=col>MATERIAL_ID</th><th scope=col>COMPOUND_NAME</th><th scope=col>COMPOUND.Abbr.</th><th scope=col>COMPOUND_NO</th><th scope=col>...</th><th scope=col>RALB.g.dL.</th><th scope=col>A.G</th><th scope=col>AST.IU.L.</th><th scope=col>ALT.IU.L.</th><th scope=col>LDH.IU.L.</th><th scope=col>GTP.IU.L.</th><th scope=col>DNA...</th><th scope=col>LDH...</th><th scope=col>CEL</th><th scope=col>combn</th></tr></thead>\n",
       "<tbody>\n",
       "\t<tr><th scope=row>003017689010.CEL</th><td>003017689010            </td><td>Rat230_2                </td><td>181                     </td><td>15                      </td><td>1                       </td><td>Liver                   </td><td>B                       </td><td>WY-14643                </td><td>WY                      </td><td>30                      </td><td>...                     </td><td>2.6                     </td><td>0.9                     </td><td>74                      </td><td>45                      </td><td>74                      </td><td>1                       </td><td>NA                      </td><td>NA                      </td><td>003017689010.CEL        </td><td>Liver.WY-14643.100.9 hr </td></tr>\n",
       "\t<tr><th scope=row>003017689011.CEL</th><td>003017689011            </td><td>Rat230_2                </td><td>181                     </td><td>15                      </td><td>2                       </td><td>Liver                   </td><td>C                       </td><td>WY-14643                </td><td>WY                      </td><td>30                      </td><td>...                     </td><td>2.6                     </td><td>0.9                     </td><td>75                      </td><td>50                      </td><td>54                      </td><td>1                       </td><td>NA                      </td><td>NA                      </td><td>003017689011.CEL        </td><td>Liver.WY-14643.100.9 hr </td></tr>\n",
       "\t<tr><th scope=row>003017689012.CEL</th><td>003017689012            </td><td>Rat230_2                </td><td>181                     </td><td>15                      </td><td>4                       </td><td>Liver                   </td><td>B                       </td><td>WY-14643                </td><td>WY                      </td><td>30                      </td><td>...                     </td><td>2.6                     </td><td>0.9                     </td><td>77                      </td><td>49                      </td><td>47                      </td><td>2                       </td><td>NA                      </td><td>NA                      </td><td>003017689012.CEL        </td><td>Liver.WY-14643.100.9 hr </td></tr>\n",
       "\t<tr><th scope=row>003017688028.CEL</th><td>003017688028            </td><td>Rat230_2                </td><td>181                     </td><td>16                      </td><td>2                       </td><td>Liver                   </td><td>A                       </td><td>WY-14643                </td><td>WY                      </td><td>30                      </td><td>...                     </td><td>2.7                     </td><td>0.9                     </td><td>99                      </td><td>76                      </td><td>54                      </td><td>1                       </td><td>NA                      </td><td>NA                      </td><td>003017688028.CEL        </td><td>Liver.WY-14643.100.24 hr</td></tr>\n",
       "\t<tr><th scope=row>003017688029.CEL</th><td>003017688029            </td><td>Rat230_2                </td><td>181                     </td><td>16                      </td><td>3                       </td><td>Liver                   </td><td>B                       </td><td>WY-14643                </td><td>WY                      </td><td>30                      </td><td>...                     </td><td>2.6                     </td><td>1.0                     </td><td>66                      </td><td>47                      </td><td>47                      </td><td>2                       </td><td>NA                      </td><td>NA                      </td><td>003017688029.CEL        </td><td>Liver.WY-14643.100.24 hr</td></tr>\n",
       "\t<tr><th scope=row>003017688030.CEL</th><td>003017688030            </td><td>Rat230_2                </td><td>181                     </td><td>16                      </td><td>4                       </td><td>Liver                   </td><td>B                       </td><td>WY-14643                </td><td>WY                      </td><td>30                      </td><td>...                     </td><td>2.5                     </td><td>1.0                     </td><td>69                      </td><td>48                      </td><td>47                      </td><td>1                       </td><td>NA                      </td><td>NA                      </td><td>003017688030.CEL        </td><td>Liver.WY-14643.100.24 hr</td></tr>\n",
       "</tbody>\n",
       "</table>\n"
      ],
      "text/latex": [
       "\\begin{tabular}{r|llllllllllllllllllllllllllllllllllllllllllllllllllllllllllllllllllll}\n",
       "  & BARCODE & ARR\\_DESIGN & EXP\\_ID & GROUP\\_ID & INDIVIDUAL\\_ID & ORGAN\\_ID & MATERIAL\\_ID & COMPOUND\\_NAME & COMPOUND.Abbr. & COMPOUND\\_NO & ... & RALB.g.dL. & A.G & AST.IU.L. & ALT.IU.L. & LDH.IU.L. & GTP.IU.L. & DNA... & LDH... & CEL & combn\\\\\n",
       "\\hline\n",
       "\t003017689010.CEL & 003017689010             & Rat230\\_2               & 181                      & 15                       & 1                        & Liver                    & B                        & WY-14643                 & WY                       & 30                       & ...                      & 2.6                      & 0.9                      & 74                       & 45                       & 74                       & 1                        & NA                       & NA                       & 003017689010.CEL         & Liver.WY-14643.100.9 hr \\\\\n",
       "\t003017689011.CEL & 003017689011             & Rat230\\_2               & 181                      & 15                       & 2                        & Liver                    & C                        & WY-14643                 & WY                       & 30                       & ...                      & 2.6                      & 0.9                      & 75                       & 50                       & 54                       & 1                        & NA                       & NA                       & 003017689011.CEL         & Liver.WY-14643.100.9 hr \\\\\n",
       "\t003017689012.CEL & 003017689012             & Rat230\\_2               & 181                      & 15                       & 4                        & Liver                    & B                        & WY-14643                 & WY                       & 30                       & ...                      & 2.6                      & 0.9                      & 77                       & 49                       & 47                       & 2                        & NA                       & NA                       & 003017689012.CEL         & Liver.WY-14643.100.9 hr \\\\\n",
       "\t003017688028.CEL & 003017688028             & Rat230\\_2               & 181                      & 16                       & 2                        & Liver                    & A                        & WY-14643                 & WY                       & 30                       & ...                      & 2.7                      & 0.9                      & 99                       & 76                       & 54                       & 1                        & NA                       & NA                       & 003017688028.CEL         & Liver.WY-14643.100.24 hr\\\\\n",
       "\t003017688029.CEL & 003017688029             & Rat230\\_2               & 181                      & 16                       & 3                        & Liver                    & B                        & WY-14643                 & WY                       & 30                       & ...                      & 2.6                      & 1.0                      & 66                       & 47                       & 47                       & 2                        & NA                       & NA                       & 003017688029.CEL         & Liver.WY-14643.100.24 hr\\\\\n",
       "\t003017688030.CEL & 003017688030             & Rat230\\_2               & 181                      & 16                       & 4                        & Liver                    & B                        & WY-14643                 & WY                       & 30                       & ...                      & 2.5                      & 1.0                      & 69                       & 48                       & 47                       & 1                        & NA                       & NA                       & 003017688030.CEL         & Liver.WY-14643.100.24 hr\\\\\n",
       "\\end{tabular}\n"
      ],
      "text/markdown": [
       "\n",
       "| <!--/--> | BARCODE | ARR_DESIGN | EXP_ID | GROUP_ID | INDIVIDUAL_ID | ORGAN_ID | MATERIAL_ID | COMPOUND_NAME | COMPOUND.Abbr. | COMPOUND_NO | ... | RALB.g.dL. | A.G | AST.IU.L. | ALT.IU.L. | LDH.IU.L. | GTP.IU.L. | DNA... | LDH... | CEL | combn |\n",
       "|---|---|---|---|---|---|---|---|---|---|---|---|---|---|---|---|---|---|---|---|---|---|\n",
       "| 003017689010.CEL | 003017689010             | Rat230_2                 | 181                      | 15                       | 1                        | Liver                    | B                        | WY-14643                 | WY                       | 30                       | ...                      | 2.6                      | 0.9                      | 74                       | 45                       | 74                       | 1                        | NA                       | NA                       | 003017689010.CEL         | Liver.WY-14643.100.9 hr  |\n",
       "| 003017689011.CEL | 003017689011             | Rat230_2                 | 181                      | 15                       | 2                        | Liver                    | C                        | WY-14643                 | WY                       | 30                       | ...                      | 2.6                      | 0.9                      | 75                       | 50                       | 54                       | 1                        | NA                       | NA                       | 003017689011.CEL         | Liver.WY-14643.100.9 hr  |\n",
       "| 003017689012.CEL | 003017689012             | Rat230_2                 | 181                      | 15                       | 4                        | Liver                    | B                        | WY-14643                 | WY                       | 30                       | ...                      | 2.6                      | 0.9                      | 77                       | 49                       | 47                       | 2                        | NA                       | NA                       | 003017689012.CEL         | Liver.WY-14643.100.9 hr  |\n",
       "| 003017688028.CEL | 003017688028             | Rat230_2                 | 181                      | 16                       | 2                        | Liver                    | A                        | WY-14643                 | WY                       | 30                       | ...                      | 2.7                      | 0.9                      | 99                       | 76                       | 54                       | 1                        | NA                       | NA                       | 003017688028.CEL         | Liver.WY-14643.100.24 hr |\n",
       "| 003017688029.CEL | 003017688029             | Rat230_2                 | 181                      | 16                       | 3                        | Liver                    | B                        | WY-14643                 | WY                       | 30                       | ...                      | 2.6                      | 1.0                      | 66                       | 47                       | 47                       | 2                        | NA                       | NA                       | 003017688029.CEL         | Liver.WY-14643.100.24 hr |\n",
       "| 003017688030.CEL | 003017688030             | Rat230_2                 | 181                      | 16                       | 4                        | Liver                    | B                        | WY-14643                 | WY                       | 30                       | ...                      | 2.5                      | 1.0                      | 69                       | 48                       | 47                       | 1                        | NA                       | NA                       | 003017688030.CEL         | Liver.WY-14643.100.24 hr |\n",
       "\n"
      ],
      "text/plain": [
       "                 BARCODE      ARR_DESIGN EXP_ID GROUP_ID INDIVIDUAL_ID ORGAN_ID\n",
       "003017689010.CEL 003017689010 Rat230_2   181    15       1             Liver   \n",
       "003017689011.CEL 003017689011 Rat230_2   181    15       2             Liver   \n",
       "003017689012.CEL 003017689012 Rat230_2   181    15       4             Liver   \n",
       "003017688028.CEL 003017688028 Rat230_2   181    16       2             Liver   \n",
       "003017688029.CEL 003017688029 Rat230_2   181    16       3             Liver   \n",
       "003017688030.CEL 003017688030 Rat230_2   181    16       4             Liver   \n",
       "                 MATERIAL_ID COMPOUND_NAME COMPOUND.Abbr. COMPOUND_NO ...\n",
       "003017689010.CEL B           WY-14643      WY             30          ...\n",
       "003017689011.CEL C           WY-14643      WY             30          ...\n",
       "003017689012.CEL B           WY-14643      WY             30          ...\n",
       "003017688028.CEL A           WY-14643      WY             30          ...\n",
       "003017688029.CEL B           WY-14643      WY             30          ...\n",
       "003017688030.CEL B           WY-14643      WY             30          ...\n",
       "                 RALB.g.dL. A.G AST.IU.L. ALT.IU.L. LDH.IU.L. GTP.IU.L. DNA...\n",
       "003017689010.CEL 2.6        0.9 74        45        74        1         NA    \n",
       "003017689011.CEL 2.6        0.9 75        50        54        1         NA    \n",
       "003017689012.CEL 2.6        0.9 77        49        47        2         NA    \n",
       "003017688028.CEL 2.7        0.9 99        76        54        1         NA    \n",
       "003017688029.CEL 2.6        1.0 66        47        47        2         NA    \n",
       "003017688030.CEL 2.5        1.0 69        48        47        1         NA    \n",
       "                 LDH... CEL              combn                   \n",
       "003017689010.CEL NA     003017689010.CEL Liver.WY-14643.100.9 hr \n",
       "003017689011.CEL NA     003017689011.CEL Liver.WY-14643.100.9 hr \n",
       "003017689012.CEL NA     003017689012.CEL Liver.WY-14643.100.9 hr \n",
       "003017688028.CEL NA     003017688028.CEL Liver.WY-14643.100.24 hr\n",
       "003017688029.CEL NA     003017688029.CEL Liver.WY-14643.100.24 hr\n",
       "003017688030.CEL NA     003017688030.CEL Liver.WY-14643.100.24 hr"
      ]
     },
     "metadata": {},
     "output_type": "display_data"
    }
   ],
   "source": [
    "tail(meta)"
   ]
  },
  {
   "cell_type": "code",
   "execution_count": 63,
   "metadata": {},
   "outputs": [
    {
     "ename": "ERROR",
     "evalue": "Error in eval(expr, envir, enclos): object 'meta.expanded.shape' not found\n",
     "output_type": "error",
     "traceback": [
      "Error in eval(expr, envir, enclos): object 'meta.expanded.shape' not found\nTraceback:\n"
     ]
    }
   ],
   "source": [
    "meta.expanded <- do.call(rbind,apply(design.all,2,function(x){\n",
    "    meta[names(x[x>0]),][1,]\n",
    "}))"
   ]
  },
  {
   "cell_type": "code",
   "execution_count": 68,
   "metadata": {},
   "outputs": [],
   "source": [
    "meta.expanded$HOURS <- as.numeric(gsub(' hr','',meta.expanded$SACRI_PERIOD))"
   ]
  },
  {
   "cell_type": "code",
   "execution_count": 69,
   "metadata": {},
   "outputs": [
    {
     "data": {
      "text/html": [
       "<ol class=list-inline>\n",
       "\t<li>2459</li>\n",
       "\t<li>69</li>\n",
       "</ol>\n"
      ],
      "text/latex": [
       "\\begin{enumerate*}\n",
       "\\item 2459\n",
       "\\item 69\n",
       "\\end{enumerate*}\n"
      ],
      "text/markdown": [
       "1. 2459\n",
       "2. 69\n",
       "\n",
       "\n"
      ],
      "text/plain": [
       "[1] 2459   69"
      ]
     },
     "metadata": {},
     "output_type": "display_data"
    }
   ],
   "source": [
    "dim(meta.expanded)"
   ]
  },
  {
   "cell_type": "code",
   "execution_count": 70,
   "metadata": {},
   "outputs": [],
   "source": [
    "write.csv(meta.expanded,file='data/TGGATES/cel/rat/meta.csv')"
   ]
  },
  {
   "cell_type": "code",
   "execution_count": 32,
   "metadata": {},
   "outputs": [],
   "source": [
    "cel.paths <- list.celfiles(celdirs,full.names=TRUE)\n",
    "names(cel.paths) <- gsub('.+/','',cel.paths)\n",
    "cel.paths <- cel.paths[celfiles]"
   ]
  },
  {
   "cell_type": "raw",
   "metadata": {},
   "source": [
    "eset <- justRMA(\n",
    "    filenames=cel.paths[celfiles %in% rownames(meta)],\n",
    "    phenoData=meta[celfiles[celfiles %in% rownames(meta)],]\n",
    ")"
   ]
  },
  {
   "cell_type": "code",
   "execution_count": 39,
   "metadata": {},
   "outputs": [],
   "source": [
    "write.table(data.frame(cel_files=cel.paths[celfiles %in% rownames(meta)]),file='data/TGGATES/celfiles.txt',quote=FALSE,col.names=TRUE,row.names=FALSE)"
   ]
  },
  {
   "cell_type": "code",
   "execution_count": 40,
   "metadata": {},
   "outputs": [],
   "source": [
    "system('/opt/apt_2.11.1_linux_64_bitx86_binaries/bin/apt-probeset-summarize -a rma-sketch -d data/TGGATES/Rat230_2.cdf -o data/TGGATES/rma_output --cel-files data/TGGATES/celfiles.txt')"
   ]
  },
  {
   "cell_type": "code",
   "execution_count": 33,
   "metadata": {},
   "outputs": [],
   "source": [
    "expr.dat <- read.table('data/TGGATES/rma_output/rma-sketch.summary.txt',header=TRUE)"
   ]
  },
  {
   "cell_type": "code",
   "execution_count": 34,
   "metadata": {},
   "outputs": [],
   "source": [
    "rownames(expr.dat) <- expr.dat[,1]\n",
    "expr.dat[,1] <- NULL\n",
    "colnames(expr.dat) <- gsub('X','',colnames(expr.dat))"
   ]
  },
  {
   "cell_type": "code",
   "execution_count": 35,
   "metadata": {},
   "outputs": [
    {
     "data": {
      "text/html": [
       "<ol class=list-inline>\n",
       "\t<li>31099</li>\n",
       "\t<li>7378</li>\n",
       "</ol>\n"
      ],
      "text/latex": [
       "\\begin{enumerate*}\n",
       "\\item 31099\n",
       "\\item 7378\n",
       "\\end{enumerate*}\n"
      ],
      "text/markdown": [
       "1. 31099\n",
       "2. 7378\n",
       "\n",
       "\n"
      ],
      "text/plain": [
       "[1] 31099  7378"
      ]
     },
     "metadata": {},
     "output_type": "display_data"
    }
   ],
   "source": [
    "dim(expr.dat)"
   ]
  },
  {
   "cell_type": "raw",
   "metadata": {},
   "source": [
    "eset <- ExpressionSet(as.matrix(expr.dat),AnnotatedDataFrame(meta[celfiles[celfiles %in% rownames(meta)],]))"
   ]
  },
  {
   "cell_type": "code",
   "execution_count": 72,
   "metadata": {},
   "outputs": [],
   "source": [
    "expr.standardized <- (expr.dat-apply(expr.dat,1,mean))/apply(expr.dat,1,sd)"
   ]
  },
  {
   "cell_type": "code",
   "execution_count": 73,
   "metadata": {},
   "outputs": [
    {
     "data": {
      "text/html": [
       "<ol class=list-inline>\n",
       "\t<li>31099</li>\n",
       "\t<li>7378</li>\n",
       "</ol>\n"
      ],
      "text/latex": [
       "\\begin{enumerate*}\n",
       "\\item 31099\n",
       "\\item 7378\n",
       "\\end{enumerate*}\n"
      ],
      "text/markdown": [
       "1. 31099\n",
       "2. 7378\n",
       "\n",
       "\n"
      ],
      "text/plain": [
       "[1] 31099  7378"
      ]
     },
     "metadata": {},
     "output_type": "display_data"
    }
   ],
   "source": [
    "dim(expr.standardized)"
   ]
  },
  {
   "cell_type": "code",
   "execution_count": 76,
   "metadata": {},
   "outputs": [],
   "source": [
    "eset <- ExpressionSet(as.matrix(expr.standardized),AnnotatedDataFrame(meta[celfiles[celfiles %in% rownames(meta)],]))"
   ]
  },
  {
   "cell_type": "code",
   "execution_count": 77,
   "metadata": {},
   "outputs": [
    {
     "data": {
      "text/plain": [
       "ExpressionSet (storageMode: lockedEnvironment)\n",
       "assayData: 31099 features, 7378 samples \n",
       "  element names: exprs \n",
       "protocolData: none\n",
       "phenoData\n",
       "  sampleNames: 003017001001.CEL 003017001002.CEL ... 003017960001.CEL\n",
       "    (7378 total)\n",
       "  varLabels: BARCODE ARR_DESIGN ... combn (68 total)\n",
       "  varMetadata: labelDescription\n",
       "featureData: none\n",
       "experimentData: use 'experimentData(object)'\n",
       "Annotation:  "
      ]
     },
     "metadata": {},
     "output_type": "display_data"
    }
   ],
   "source": [
    "eset"
   ]
  },
  {
   "cell_type": "code",
   "execution_count": 78,
   "metadata": {},
   "outputs": [
    {
     "data": {
      "image/png": "[encoded data removed]",
      "text/plain": [
       "Plot with title \"Principal Components Plot\""
      ]
     },
     "metadata": {},
     "output_type": "display_data"
    }
   ],
   "source": [
    "plotPCA(eset, groups =\n",
    " pData(eset)$COMPOUND_NAME, groupnames =\n",
    " levels(pData(eset)$COMPOUND_NAME), legend=FALSE)"
   ]
  },
  {
   "cell_type": "code",
   "execution_count": 87,
   "metadata": {},
   "outputs": [],
   "source": [
    "library(limma)"
   ]
  },
  {
   "cell_type": "code",
   "execution_count": 88,
   "metadata": {},
   "outputs": [
    {
     "data": {
      "text/html": [
       "<table>\n",
       "<thead><tr><th></th><th scope=col>combnLiver.2,4-dinitrophenol.0.3 hr</th><th scope=col>combnLiver.2-nitrofluorene.0.24 hr</th><th scope=col>combnLiver.2-nitrofluorene.100.24 hr</th><th scope=col>combnLiver.2-nitrofluorene.1000.24 hr</th><th scope=col>combnLiver.2-nitrofluorene.300.24 hr</th><th scope=col>combnLiver.2,4-dinitrophenol.0.24 hr</th><th scope=col>combnLiver.2,4-dinitrophenol.0.6 hr</th><th scope=col>combnLiver.2,4-dinitrophenol.0.9 hr</th><th scope=col>combnLiver.2,4-dinitrophenol.20.24 hr</th><th scope=col>combnLiver.2,4-dinitrophenol.20.3 hr</th><th scope=col>...</th><th scope=col>combnLiver.WY-14643.10.6 hr</th><th scope=col>combnLiver.WY-14643.10.9 hr</th><th scope=col>combnLiver.WY-14643.100.24 hr</th><th scope=col>combnLiver.WY-14643.100.3 hr</th><th scope=col>combnLiver.WY-14643.100.6 hr</th><th scope=col>combnLiver.WY-14643.100.9 hr</th><th scope=col>combnLiver.WY-14643.30.24 hr</th><th scope=col>combnLiver.WY-14643.30.3 hr</th><th scope=col>combnLiver.WY-14643.30.6 hr</th><th scope=col>combnLiver.WY-14643.30.9 hr</th></tr></thead>\n",
       "<tbody>\n",
       "\t<tr><th scope=row>003017911030.CEL</th><td>0  </td><td>1  </td><td>0  </td><td>0  </td><td>0  </td><td>0  </td><td>0  </td><td>0  </td><td>0  </td><td>0  </td><td>...</td><td>0  </td><td>0  </td><td>0  </td><td>0  </td><td>0  </td><td>0  </td><td>0  </td><td>0  </td><td>0  </td><td>0  </td></tr>\n",
       "\t<tr><th scope=row>003017912001.CEL</th><td>0  </td><td>1  </td><td>0  </td><td>0  </td><td>0  </td><td>0  </td><td>0  </td><td>0  </td><td>0  </td><td>0  </td><td>...</td><td>0  </td><td>0  </td><td>0  </td><td>0  </td><td>0  </td><td>0  </td><td>0  </td><td>0  </td><td>0  </td><td>0  </td></tr>\n",
       "\t<tr><th scope=row>003017912002.CEL</th><td>0  </td><td>1  </td><td>0  </td><td>0  </td><td>0  </td><td>0  </td><td>0  </td><td>0  </td><td>0  </td><td>0  </td><td>...</td><td>0  </td><td>0  </td><td>0  </td><td>0  </td><td>0  </td><td>0  </td><td>0  </td><td>0  </td><td>0  </td><td>0  </td></tr>\n",
       "\t<tr><th scope=row>003017912003.CEL</th><td>0  </td><td>0  </td><td>1  </td><td>0  </td><td>0  </td><td>0  </td><td>0  </td><td>0  </td><td>0  </td><td>0  </td><td>...</td><td>0  </td><td>0  </td><td>0  </td><td>0  </td><td>0  </td><td>0  </td><td>0  </td><td>0  </td><td>0  </td><td>0  </td></tr>\n",
       "\t<tr><th scope=row>003017912004.CEL</th><td>0  </td><td>0  </td><td>1  </td><td>0  </td><td>0  </td><td>0  </td><td>0  </td><td>0  </td><td>0  </td><td>0  </td><td>...</td><td>0  </td><td>0  </td><td>0  </td><td>0  </td><td>0  </td><td>0  </td><td>0  </td><td>0  </td><td>0  </td><td>0  </td></tr>\n",
       "\t<tr><th scope=row>003017912005.CEL</th><td>0  </td><td>0  </td><td>1  </td><td>0  </td><td>0  </td><td>0  </td><td>0  </td><td>0  </td><td>0  </td><td>0  </td><td>...</td><td>0  </td><td>0  </td><td>0  </td><td>0  </td><td>0  </td><td>0  </td><td>0  </td><td>0  </td><td>0  </td><td>0  </td></tr>\n",
       "</tbody>\n",
       "</table>\n"
      ],
      "text/latex": [
       "\\begin{tabular}{r|lllllllllllllllllllllllllllllllllllllllllllllllllllllllllllllllllllllllllllllllllllllllllllllllllllllllllllllllllllllllllllllllllllllllllllllllllllllllllllllllllllllllllllllllllllllllllllllllllllllllllllllllllllllllllllllllllllllllllllllllllllllllllllllllllllllllllllllllllllllllllllllllllllllllllllllllllllllllllllllllllllllllllllllllllllllllllllllllllllllllllllllllllllllllllllllllllllllllllllllllllllllllllllllllllllllllllllllllllllllllllllllllllllllllllllllllllllllllllllllllllllllllllllllllllllllllllllllllllllllllllllllllllllllllllllllllllllllllllllllllllllllllllllllllllllllllllllllllllllllllllllllllllllllllllllllllllllllllllllllllllllllllllllllllllllllllllllllllllllllllllllllllllllllllllllllllllllllllllllllllllllllllllllllllllllllllllllllllllllllllllllllllllllllllllllllllllllllllllllllllllllllllllllllllllllllllllllllllllllllllllllllllllllllllllllllllllllllllllllllllllllllllllllllllllllllllllllllllllllllllllllllllllllllllllllllllllllllllllllllllllllllllllllllllllllllllllllllllllllllllllllllllllllllllllllllllllllllllllllllllllllllllllllllllllllllllllllllllllllllllllllllllllllllllllllllllllllllllllllllllllllllllllllllllllllllllllllllllllllllllllllllllllllllllllllllllllllllllllllllllllllllllllllllllllllllllllllllllllllllllllllllllllllllllllllllllllllllllllllllllllllllllllllllllllllllllllllllllllllllllllllllllllllllllllllllllllllllllllllllllllllllllllllllllllllllllllllllllllllllllllllllllllllllllllllllllllllllllllllllllllllllllllllllllllllllllllllllllllllllllllllllllllllllllllllllllllllllllllllllllllllllllllllllllllllllllllllllllllllllllllllllllllllllllllllllllllllllllllllllllllllllllllllllllllllllllllllllllllllllllllllllllllllllllllllllllllllllllllllllllllllllllllllllllllllllllllllllllllllllllllllllllllllllllllllllllllllllllllllllllllllllllllllllllllllllllllllllllllllllllllllllllllllllllllllllllllllllllllllllllllllllllllllllllllllllllllllllllllllllllllllllllllllllllllllllllllllllllllllllllllllllllllllllllllllllllllllllllllllllllllllllllllllllllllllllllllllllllllllllllllllllllllllllllllllllllllllllllllllllllllllllllllllllllllllllllllllllllllllllllllllllllllllllllllllllllllllllllllllllllllllllllllllllllllllllllllllllllllllllllllllllllllllllllllllllllllllllllllllllllllllllllllllllllllllllllllllllllllllllllllllllllllllllllllllllllllllllllllllllllllllllllllllllllllllllllllllllllllllllllllllllllllllllllllllllllllllllllllllllllllllllllllllllllllllllllllllllllllllllllllllllllllllllllllllllllllllllllllllllllllllllllllllllllllll}\n",
       "  & combnLiver.2,4-dinitrophenol.0.3 hr & combnLiver.2-nitrofluorene.0.24 hr & combnLiver.2-nitrofluorene.100.24 hr & combnLiver.2-nitrofluorene.1000.24 hr & combnLiver.2-nitrofluorene.300.24 hr & combnLiver.2,4-dinitrophenol.0.24 hr & combnLiver.2,4-dinitrophenol.0.6 hr & combnLiver.2,4-dinitrophenol.0.9 hr & combnLiver.2,4-dinitrophenol.20.24 hr & combnLiver.2,4-dinitrophenol.20.3 hr & ... & combnLiver.WY-14643.10.6 hr & combnLiver.WY-14643.10.9 hr & combnLiver.WY-14643.100.24 hr & combnLiver.WY-14643.100.3 hr & combnLiver.WY-14643.100.6 hr & combnLiver.WY-14643.100.9 hr & combnLiver.WY-14643.30.24 hr & combnLiver.WY-14643.30.3 hr & combnLiver.WY-14643.30.6 hr & combnLiver.WY-14643.30.9 hr\\\\\n",
       "\\hline\n",
       "\t003017911030.CEL & 0   & 1   & 0   & 0   & 0   & 0   & 0   & 0   & 0   & 0   & ... & 0   & 0   & 0   & 0   & 0   & 0   & 0   & 0   & 0   & 0  \\\\\n",
       "\t003017912001.CEL & 0   & 1   & 0   & 0   & 0   & 0   & 0   & 0   & 0   & 0   & ... & 0   & 0   & 0   & 0   & 0   & 0   & 0   & 0   & 0   & 0  \\\\\n",
       "\t003017912002.CEL & 0   & 1   & 0   & 0   & 0   & 0   & 0   & 0   & 0   & 0   & ... & 0   & 0   & 0   & 0   & 0   & 0   & 0   & 0   & 0   & 0  \\\\\n",
       "\t003017912003.CEL & 0   & 0   & 1   & 0   & 0   & 0   & 0   & 0   & 0   & 0   & ... & 0   & 0   & 0   & 0   & 0   & 0   & 0   & 0   & 0   & 0  \\\\\n",
       "\t003017912004.CEL & 0   & 0   & 1   & 0   & 0   & 0   & 0   & 0   & 0   & 0   & ... & 0   & 0   & 0   & 0   & 0   & 0   & 0   & 0   & 0   & 0  \\\\\n",
       "\t003017912005.CEL & 0   & 0   & 1   & 0   & 0   & 0   & 0   & 0   & 0   & 0   & ... & 0   & 0   & 0   & 0   & 0   & 0   & 0   & 0   & 0   & 0  \\\\\n",
       "\\end{tabular}\n"
      ],
      "text/markdown": [
       "\n",
       "| <!--/--> | combnLiver.2,4-dinitrophenol.0.3 hr | combnLiver.2-nitrofluorene.0.24 hr | combnLiver.2-nitrofluorene.100.24 hr | combnLiver.2-nitrofluorene.1000.24 hr | combnLiver.2-nitrofluorene.300.24 hr | combnLiver.2,4-dinitrophenol.0.24 hr | combnLiver.2,4-dinitrophenol.0.6 hr | combnLiver.2,4-dinitrophenol.0.9 hr | combnLiver.2,4-dinitrophenol.20.24 hr | combnLiver.2,4-dinitrophenol.20.3 hr | ... | combnLiver.WY-14643.10.6 hr | combnLiver.WY-14643.10.9 hr | combnLiver.WY-14643.100.24 hr | combnLiver.WY-14643.100.3 hr | combnLiver.WY-14643.100.6 hr | combnLiver.WY-14643.100.9 hr | combnLiver.WY-14643.30.24 hr | combnLiver.WY-14643.30.3 hr | combnLiver.WY-14643.30.6 hr | combnLiver.WY-14643.30.9 hr |\n",
       "|---|---|---|---|---|---|---|---|---|---|---|---|---|---|---|---|---|---|---|---|---|---|\n",
       "| 003017911030.CEL | 0   | 1   | 0   | 0   | 0   | 0   | 0   | 0   | 0   | 0   | ... | 0   | 0   | 0   | 0   | 0   | 0   | 0   | 0   | 0   | 0   |\n",
       "| 003017912001.CEL | 0   | 1   | 0   | 0   | 0   | 0   | 0   | 0   | 0   | 0   | ... | 0   | 0   | 0   | 0   | 0   | 0   | 0   | 0   | 0   | 0   |\n",
       "| 003017912002.CEL | 0   | 1   | 0   | 0   | 0   | 0   | 0   | 0   | 0   | 0   | ... | 0   | 0   | 0   | 0   | 0   | 0   | 0   | 0   | 0   | 0   |\n",
       "| 003017912003.CEL | 0   | 0   | 1   | 0   | 0   | 0   | 0   | 0   | 0   | 0   | ... | 0   | 0   | 0   | 0   | 0   | 0   | 0   | 0   | 0   | 0   |\n",
       "| 003017912004.CEL | 0   | 0   | 1   | 0   | 0   | 0   | 0   | 0   | 0   | 0   | ... | 0   | 0   | 0   | 0   | 0   | 0   | 0   | 0   | 0   | 0   |\n",
       "| 003017912005.CEL | 0   | 0   | 1   | 0   | 0   | 0   | 0   | 0   | 0   | 0   | ... | 0   | 0   | 0   | 0   | 0   | 0   | 0   | 0   | 0   | 0   |\n",
       "\n"
      ],
      "text/plain": [
       "                 combnLiver.2,4-dinitrophenol.0.3 hr\n",
       "003017911030.CEL 0                                  \n",
       "003017912001.CEL 0                                  \n",
       "003017912002.CEL 0                                  \n",
       "003017912003.CEL 0                                  \n",
       "003017912004.CEL 0                                  \n",
       "003017912005.CEL 0                                  \n",
       "                 combnLiver.2-nitrofluorene.0.24 hr\n",
       "003017911030.CEL 1                                 \n",
       "003017912001.CEL 1                                 \n",
       "003017912002.CEL 1                                 \n",
       "003017912003.CEL 0                                 \n",
       "003017912004.CEL 0                                 \n",
       "003017912005.CEL 0                                 \n",
       "                 combnLiver.2-nitrofluorene.100.24 hr\n",
       "003017911030.CEL 0                                   \n",
       "003017912001.CEL 0                                   \n",
       "003017912002.CEL 0                                   \n",
       "003017912003.CEL 1                                   \n",
       "003017912004.CEL 1                                   \n",
       "003017912005.CEL 1                                   \n",
       "                 combnLiver.2-nitrofluorene.1000.24 hr\n",
       "003017911030.CEL 0                                    \n",
       "003017912001.CEL 0                                    \n",
       "003017912002.CEL 0                                    \n",
       "003017912003.CEL 0                                    \n",
       "003017912004.CEL 0                                    \n",
       "003017912005.CEL 0                                    \n",
       "                 combnLiver.2-nitrofluorene.300.24 hr\n",
       "003017911030.CEL 0                                   \n",
       "003017912001.CEL 0                                   \n",
       "003017912002.CEL 0                                   \n",
       "003017912003.CEL 0                                   \n",
       "003017912004.CEL 0                                   \n",
       "003017912005.CEL 0                                   \n",
       "                 combnLiver.2,4-dinitrophenol.0.24 hr\n",
       "003017911030.CEL 0                                   \n",
       "003017912001.CEL 0                                   \n",
       "003017912002.CEL 0                                   \n",
       "003017912003.CEL 0                                   \n",
       "003017912004.CEL 0                                   \n",
       "003017912005.CEL 0                                   \n",
       "                 combnLiver.2,4-dinitrophenol.0.6 hr\n",
       "003017911030.CEL 0                                  \n",
       "003017912001.CEL 0                                  \n",
       "003017912002.CEL 0                                  \n",
       "003017912003.CEL 0                                  \n",
       "003017912004.CEL 0                                  \n",
       "003017912005.CEL 0                                  \n",
       "                 combnLiver.2,4-dinitrophenol.0.9 hr\n",
       "003017911030.CEL 0                                  \n",
       "003017912001.CEL 0                                  \n",
       "003017912002.CEL 0                                  \n",
       "003017912003.CEL 0                                  \n",
       "003017912004.CEL 0                                  \n",
       "003017912005.CEL 0                                  \n",
       "                 combnLiver.2,4-dinitrophenol.20.24 hr\n",
       "003017911030.CEL 0                                    \n",
       "003017912001.CEL 0                                    \n",
       "003017912002.CEL 0                                    \n",
       "003017912003.CEL 0                                    \n",
       "003017912004.CEL 0                                    \n",
       "003017912005.CEL 0                                    \n",
       "                 combnLiver.2,4-dinitrophenol.20.3 hr ...\n",
       "003017911030.CEL 0                                    ...\n",
       "003017912001.CEL 0                                    ...\n",
       "003017912002.CEL 0                                    ...\n",
       "003017912003.CEL 0                                    ...\n",
       "003017912004.CEL 0                                    ...\n",
       "003017912005.CEL 0                                    ...\n",
       "                 combnLiver.WY-14643.10.6 hr combnLiver.WY-14643.10.9 hr\n",
       "003017911030.CEL 0                           0                          \n",
       "003017912001.CEL 0                           0                          \n",
       "003017912002.CEL 0                           0                          \n",
       "003017912003.CEL 0                           0                          \n",
       "003017912004.CEL 0                           0                          \n",
       "003017912005.CEL 0                           0                          \n",
       "                 combnLiver.WY-14643.100.24 hr combnLiver.WY-14643.100.3 hr\n",
       "003017911030.CEL 0                             0                           \n",
       "003017912001.CEL 0                             0                           \n",
       "003017912002.CEL 0                             0                           \n",
       "003017912003.CEL 0                             0                           \n",
       "003017912004.CEL 0                             0                           \n",
       "003017912005.CEL 0                             0                           \n",
       "                 combnLiver.WY-14643.100.6 hr combnLiver.WY-14643.100.9 hr\n",
       "003017911030.CEL 0                            0                           \n",
       "003017912001.CEL 0                            0                           \n",
       "003017912002.CEL 0                            0                           \n",
       "003017912003.CEL 0                            0                           \n",
       "003017912004.CEL 0                            0                           \n",
       "003017912005.CEL 0                            0                           \n",
       "                 combnLiver.WY-14643.30.24 hr combnLiver.WY-14643.30.3 hr\n",
       "003017911030.CEL 0                            0                          \n",
       "003017912001.CEL 0                            0                          \n",
       "003017912002.CEL 0                            0                          \n",
       "003017912003.CEL 0                            0                          \n",
       "003017912004.CEL 0                            0                          \n",
       "003017912005.CEL 0                            0                          \n",
       "                 combnLiver.WY-14643.30.6 hr combnLiver.WY-14643.30.9 hr\n",
       "003017911030.CEL 0                           0                          \n",
       "003017912001.CEL 0                           0                          \n",
       "003017912002.CEL 0                           0                          \n",
       "003017912003.CEL 0                           0                          \n",
       "003017912004.CEL 0                           0                          \n",
       "003017912005.CEL 0                           0                          "
      ]
     },
     "metadata": {},
     "output_type": "display_data"
    }
   ],
   "source": [
    "design.all <- model.matrix(~0+combn,data=meta)\n",
    "head(design.all)"
   ]
  },
  {
   "cell_type": "code",
   "execution_count": 81,
   "metadata": {},
   "outputs": [
    {
     "data": {
      "text/html": [
       "<table>\n",
       "<thead><tr><th></th><th scope=col>(Intercept)</th><th scope=col>combnLiver.2-nitrofluorene.0.24 hr</th><th scope=col>combnLiver.2-nitrofluorene.100.24 hr</th><th scope=col>combnLiver.2-nitrofluorene.1000.24 hr</th><th scope=col>combnLiver.2-nitrofluorene.300.24 hr</th><th scope=col>combnLiver.2,4-dinitrophenol.0.24 hr</th><th scope=col>combnLiver.2,4-dinitrophenol.0.6 hr</th><th scope=col>combnLiver.2,4-dinitrophenol.0.9 hr</th><th scope=col>combnLiver.2,4-dinitrophenol.20.24 hr</th><th scope=col>combnLiver.2,4-dinitrophenol.20.3 hr</th><th scope=col>...</th><th scope=col>combnLiver.WY-14643.10.6 hr</th><th scope=col>combnLiver.WY-14643.10.9 hr</th><th scope=col>combnLiver.WY-14643.100.24 hr</th><th scope=col>combnLiver.WY-14643.100.3 hr</th><th scope=col>combnLiver.WY-14643.100.6 hr</th><th scope=col>combnLiver.WY-14643.100.9 hr</th><th scope=col>combnLiver.WY-14643.30.24 hr</th><th scope=col>combnLiver.WY-14643.30.3 hr</th><th scope=col>combnLiver.WY-14643.30.6 hr</th><th scope=col>combnLiver.WY-14643.30.9 hr</th></tr></thead>\n",
       "<tbody>\n",
       "\t<tr><th scope=row>003017911030.CEL</th><td>1  </td><td>1  </td><td>0  </td><td>0  </td><td>0  </td><td>0  </td><td>0  </td><td>0  </td><td>0  </td><td>0  </td><td>...</td><td>0  </td><td>0  </td><td>0  </td><td>0  </td><td>0  </td><td>0  </td><td>0  </td><td>0  </td><td>0  </td><td>0  </td></tr>\n",
       "\t<tr><th scope=row>003017912001.CEL</th><td>1  </td><td>1  </td><td>0  </td><td>0  </td><td>0  </td><td>0  </td><td>0  </td><td>0  </td><td>0  </td><td>0  </td><td>...</td><td>0  </td><td>0  </td><td>0  </td><td>0  </td><td>0  </td><td>0  </td><td>0  </td><td>0  </td><td>0  </td><td>0  </td></tr>\n",
       "\t<tr><th scope=row>003017912002.CEL</th><td>1  </td><td>1  </td><td>0  </td><td>0  </td><td>0  </td><td>0  </td><td>0  </td><td>0  </td><td>0  </td><td>0  </td><td>...</td><td>0  </td><td>0  </td><td>0  </td><td>0  </td><td>0  </td><td>0  </td><td>0  </td><td>0  </td><td>0  </td><td>0  </td></tr>\n",
       "\t<tr><th scope=row>003017912003.CEL</th><td>1  </td><td>0  </td><td>1  </td><td>0  </td><td>0  </td><td>0  </td><td>0  </td><td>0  </td><td>0  </td><td>0  </td><td>...</td><td>0  </td><td>0  </td><td>0  </td><td>0  </td><td>0  </td><td>0  </td><td>0  </td><td>0  </td><td>0  </td><td>0  </td></tr>\n",
       "\t<tr><th scope=row>003017912004.CEL</th><td>1  </td><td>0  </td><td>1  </td><td>0  </td><td>0  </td><td>0  </td><td>0  </td><td>0  </td><td>0  </td><td>0  </td><td>...</td><td>0  </td><td>0  </td><td>0  </td><td>0  </td><td>0  </td><td>0  </td><td>0  </td><td>0  </td><td>0  </td><td>0  </td></tr>\n",
       "\t<tr><th scope=row>003017912005.CEL</th><td>1  </td><td>0  </td><td>1  </td><td>0  </td><td>0  </td><td>0  </td><td>0  </td><td>0  </td><td>0  </td><td>0  </td><td>...</td><td>0  </td><td>0  </td><td>0  </td><td>0  </td><td>0  </td><td>0  </td><td>0  </td><td>0  </td><td>0  </td><td>0  </td></tr>\n",
       "</tbody>\n",
       "</table>\n"
      ],
      "text/latex": [
       "\\begin{tabular}{r|lllllllllllllllllllllllllllllllllllllllllllllllllllllllllllllllllllllllllllllllllllllllllllllllllllllllllllllllllllllllllllllllllllllllllllllllllllllllllllllllllllllllllllllllllllllllllllllllllllllllllllllllllllllllllllllllllllllllllllllllllllllllllllllllllllllllllllllllllllllllllllllllllllllllllllllllllllllllllllllllllllllllllllllllllllllllllllllllllllllllllllllllllllllllllllllllllllllllllllllllllllllllllllllllllllllllllllllllllllllllllllllllllllllllllllllllllllllllllllllllllllllllllllllllllllllllllllllllllllllllllllllllllllllllllllllllllllllllllllllllllllllllllllllllllllllllllllllllllllllllllllllllllllllllllllllllllllllllllllllllllllllllllllllllllllllllllllllllllllllllllllllllllllllllllllllllllllllllllllllllllllllllllllllllllllllllllllllllllllllllllllllllllllllllllllllllllllllllllllllllllllllllllllllllllllllllllllllllllllllllllllllllllllllllllllllllllllllllllllllllllllllllllllllllllllllllllllllllllllllllllllllllllllllllllllllllllllllllllllllllllllllllllllllllllllllllllllllllllllllllllllllllllllllllllllllllllllllllllllllllllllllllllllllllllllllllllllllllllllllllllllllllllllllllllllllllllllllllllllllllllllllllllllllllllllllllllllllllllllllllllllllllllllllllllllllllllllllllllllllllllllllllllllllllllllllllllllllllllllllllllllllllllllllllllllllllllllllllllllllllllllllllllllllllllllllllllllllllllllllllllllllllllllllllllllllllllllllllllllllllllllllllllllllllllllllllllllllllllllllllllllllllllllllllllllllllllllllllllllllllllllllllllllllllllllllllllllllllllllllllllllllllllllllllllllllllllllllllllllllllllllllllllllllllllllllllllllllllllllllllllllllllllllllllllllllllllllllllllllllllllllllllllllllllllllllllllllllllllllllllllllllllllllllllllllllllllllllllllllllllllllllllllllllllllllllllllllllllllllllllllllllllllllllllllllllllllllllllllllllllllllllllllllllllllllllllllllllllllllllllllllllllllllllllllllllllllllllllllllllllllllllllllllllllllllllllllllllllllllllllllllllllllllllllllllllllllllllllllllllllllllllllllllllllllllllllllllllllllllllllllllllllllllllllllllllllllllllllllllllllllllllllllllllllllllllllllllllllllllllllllllllllllllllllllllllllllllllllllllllllllllllllllllllllllllllllllllllllllllllllllllllllllllllllllllllllllllllllllllllllllllllllllllllllllllllllllllllllllllllllllllllllllllllllllllllllllllllllllllllllllllllllllllllllllllllllllllllllllllllllllllllllllllllllllllllllllllllllllllllllllllllllllllllllllllllllllllllllllllllllllllllllllllllllllllllllllllllllllllllllllllllllllllllllllllllllllllllllllllllllllllllllllllllllllll}\n",
       "  & (Intercept) & combnLiver.2-nitrofluorene.0.24 hr & combnLiver.2-nitrofluorene.100.24 hr & combnLiver.2-nitrofluorene.1000.24 hr & combnLiver.2-nitrofluorene.300.24 hr & combnLiver.2,4-dinitrophenol.0.24 hr & combnLiver.2,4-dinitrophenol.0.6 hr & combnLiver.2,4-dinitrophenol.0.9 hr & combnLiver.2,4-dinitrophenol.20.24 hr & combnLiver.2,4-dinitrophenol.20.3 hr & ... & combnLiver.WY-14643.10.6 hr & combnLiver.WY-14643.10.9 hr & combnLiver.WY-14643.100.24 hr & combnLiver.WY-14643.100.3 hr & combnLiver.WY-14643.100.6 hr & combnLiver.WY-14643.100.9 hr & combnLiver.WY-14643.30.24 hr & combnLiver.WY-14643.30.3 hr & combnLiver.WY-14643.30.6 hr & combnLiver.WY-14643.30.9 hr\\\\\n",
       "\\hline\n",
       "\t003017911030.CEL & 1   & 1   & 0   & 0   & 0   & 0   & 0   & 0   & 0   & 0   & ... & 0   & 0   & 0   & 0   & 0   & 0   & 0   & 0   & 0   & 0  \\\\\n",
       "\t003017912001.CEL & 1   & 1   & 0   & 0   & 0   & 0   & 0   & 0   & 0   & 0   & ... & 0   & 0   & 0   & 0   & 0   & 0   & 0   & 0   & 0   & 0  \\\\\n",
       "\t003017912002.CEL & 1   & 1   & 0   & 0   & 0   & 0   & 0   & 0   & 0   & 0   & ... & 0   & 0   & 0   & 0   & 0   & 0   & 0   & 0   & 0   & 0  \\\\\n",
       "\t003017912003.CEL & 1   & 0   & 1   & 0   & 0   & 0   & 0   & 0   & 0   & 0   & ... & 0   & 0   & 0   & 0   & 0   & 0   & 0   & 0   & 0   & 0  \\\\\n",
       "\t003017912004.CEL & 1   & 0   & 1   & 0   & 0   & 0   & 0   & 0   & 0   & 0   & ... & 0   & 0   & 0   & 0   & 0   & 0   & 0   & 0   & 0   & 0  \\\\\n",
       "\t003017912005.CEL & 1   & 0   & 1   & 0   & 0   & 0   & 0   & 0   & 0   & 0   & ... & 0   & 0   & 0   & 0   & 0   & 0   & 0   & 0   & 0   & 0  \\\\\n",
       "\\end{tabular}\n"
      ],
      "text/markdown": [
       "\n",
       "| <!--/--> | (Intercept) | combnLiver.2-nitrofluorene.0.24 hr | combnLiver.2-nitrofluorene.100.24 hr | combnLiver.2-nitrofluorene.1000.24 hr | combnLiver.2-nitrofluorene.300.24 hr | combnLiver.2,4-dinitrophenol.0.24 hr | combnLiver.2,4-dinitrophenol.0.6 hr | combnLiver.2,4-dinitrophenol.0.9 hr | combnLiver.2,4-dinitrophenol.20.24 hr | combnLiver.2,4-dinitrophenol.20.3 hr | ... | combnLiver.WY-14643.10.6 hr | combnLiver.WY-14643.10.9 hr | combnLiver.WY-14643.100.24 hr | combnLiver.WY-14643.100.3 hr | combnLiver.WY-14643.100.6 hr | combnLiver.WY-14643.100.9 hr | combnLiver.WY-14643.30.24 hr | combnLiver.WY-14643.30.3 hr | combnLiver.WY-14643.30.6 hr | combnLiver.WY-14643.30.9 hr |\n",
       "|---|---|---|---|---|---|---|---|---|---|---|---|---|---|---|---|---|---|---|---|---|---|\n",
       "| 003017911030.CEL | 1   | 1   | 0   | 0   | 0   | 0   | 0   | 0   | 0   | 0   | ... | 0   | 0   | 0   | 0   | 0   | 0   | 0   | 0   | 0   | 0   |\n",
       "| 003017912001.CEL | 1   | 1   | 0   | 0   | 0   | 0   | 0   | 0   | 0   | 0   | ... | 0   | 0   | 0   | 0   | 0   | 0   | 0   | 0   | 0   | 0   |\n",
       "| 003017912002.CEL | 1   | 1   | 0   | 0   | 0   | 0   | 0   | 0   | 0   | 0   | ... | 0   | 0   | 0   | 0   | 0   | 0   | 0   | 0   | 0   | 0   |\n",
       "| 003017912003.CEL | 1   | 0   | 1   | 0   | 0   | 0   | 0   | 0   | 0   | 0   | ... | 0   | 0   | 0   | 0   | 0   | 0   | 0   | 0   | 0   | 0   |\n",
       "| 003017912004.CEL | 1   | 0   | 1   | 0   | 0   | 0   | 0   | 0   | 0   | 0   | ... | 0   | 0   | 0   | 0   | 0   | 0   | 0   | 0   | 0   | 0   |\n",
       "| 003017912005.CEL | 1   | 0   | 1   | 0   | 0   | 0   | 0   | 0   | 0   | 0   | ... | 0   | 0   | 0   | 0   | 0   | 0   | 0   | 0   | 0   | 0   |\n",
       "\n"
      ],
      "text/plain": [
       "                 (Intercept) combnLiver.2-nitrofluorene.0.24 hr\n",
       "003017911030.CEL 1           1                                 \n",
       "003017912001.CEL 1           1                                 \n",
       "003017912002.CEL 1           1                                 \n",
       "003017912003.CEL 1           0                                 \n",
       "003017912004.CEL 1           0                                 \n",
       "003017912005.CEL 1           0                                 \n",
       "                 combnLiver.2-nitrofluorene.100.24 hr\n",
       "003017911030.CEL 0                                   \n",
       "003017912001.CEL 0                                   \n",
       "003017912002.CEL 0                                   \n",
       "003017912003.CEL 1                                   \n",
       "003017912004.CEL 1                                   \n",
       "003017912005.CEL 1                                   \n",
       "                 combnLiver.2-nitrofluorene.1000.24 hr\n",
       "003017911030.CEL 0                                    \n",
       "003017912001.CEL 0                                    \n",
       "003017912002.CEL 0                                    \n",
       "003017912003.CEL 0                                    \n",
       "003017912004.CEL 0                                    \n",
       "003017912005.CEL 0                                    \n",
       "                 combnLiver.2-nitrofluorene.300.24 hr\n",
       "003017911030.CEL 0                                   \n",
       "003017912001.CEL 0                                   \n",
       "003017912002.CEL 0                                   \n",
       "003017912003.CEL 0                                   \n",
       "003017912004.CEL 0                                   \n",
       "003017912005.CEL 0                                   \n",
       "                 combnLiver.2,4-dinitrophenol.0.24 hr\n",
       "003017911030.CEL 0                                   \n",
       "003017912001.CEL 0                                   \n",
       "003017912002.CEL 0                                   \n",
       "003017912003.CEL 0                                   \n",
       "003017912004.CEL 0                                   \n",
       "003017912005.CEL 0                                   \n",
       "                 combnLiver.2,4-dinitrophenol.0.6 hr\n",
       "003017911030.CEL 0                                  \n",
       "003017912001.CEL 0                                  \n",
       "003017912002.CEL 0                                  \n",
       "003017912003.CEL 0                                  \n",
       "003017912004.CEL 0                                  \n",
       "003017912005.CEL 0                                  \n",
       "                 combnLiver.2,4-dinitrophenol.0.9 hr\n",
       "003017911030.CEL 0                                  \n",
       "003017912001.CEL 0                                  \n",
       "003017912002.CEL 0                                  \n",
       "003017912003.CEL 0                                  \n",
       "003017912004.CEL 0                                  \n",
       "003017912005.CEL 0                                  \n",
       "                 combnLiver.2,4-dinitrophenol.20.24 hr\n",
       "003017911030.CEL 0                                    \n",
       "003017912001.CEL 0                                    \n",
       "003017912002.CEL 0                                    \n",
       "003017912003.CEL 0                                    \n",
       "003017912004.CEL 0                                    \n",
       "003017912005.CEL 0                                    \n",
       "                 combnLiver.2,4-dinitrophenol.20.3 hr ...\n",
       "003017911030.CEL 0                                    ...\n",
       "003017912001.CEL 0                                    ...\n",
       "003017912002.CEL 0                                    ...\n",
       "003017912003.CEL 0                                    ...\n",
       "003017912004.CEL 0                                    ...\n",
       "003017912005.CEL 0                                    ...\n",
       "                 combnLiver.WY-14643.10.6 hr combnLiver.WY-14643.10.9 hr\n",
       "003017911030.CEL 0                           0                          \n",
       "003017912001.CEL 0                           0                          \n",
       "003017912002.CEL 0                           0                          \n",
       "003017912003.CEL 0                           0                          \n",
       "003017912004.CEL 0                           0                          \n",
       "003017912005.CEL 0                           0                          \n",
       "                 combnLiver.WY-14643.100.24 hr combnLiver.WY-14643.100.3 hr\n",
       "003017911030.CEL 0                             0                           \n",
       "003017912001.CEL 0                             0                           \n",
       "003017912002.CEL 0                             0                           \n",
       "003017912003.CEL 0                             0                           \n",
       "003017912004.CEL 0                             0                           \n",
       "003017912005.CEL 0                             0                           \n",
       "                 combnLiver.WY-14643.100.6 hr combnLiver.WY-14643.100.9 hr\n",
       "003017911030.CEL 0                            0                           \n",
       "003017912001.CEL 0                            0                           \n",
       "003017912002.CEL 0                            0                           \n",
       "003017912003.CEL 0                            0                           \n",
       "003017912004.CEL 0                            0                           \n",
       "003017912005.CEL 0                            0                           \n",
       "                 combnLiver.WY-14643.30.24 hr combnLiver.WY-14643.30.3 hr\n",
       "003017911030.CEL 0                            0                          \n",
       "003017912001.CEL 0                            0                          \n",
       "003017912002.CEL 0                            0                          \n",
       "003017912003.CEL 0                            0                          \n",
       "003017912004.CEL 0                            0                          \n",
       "003017912005.CEL 0                            0                          \n",
       "                 combnLiver.WY-14643.30.6 hr combnLiver.WY-14643.30.9 hr\n",
       "003017911030.CEL 0                           0                          \n",
       "003017912001.CEL 0                           0                          \n",
       "003017912002.CEL 0                           0                          \n",
       "003017912003.CEL 0                           0                          \n",
       "003017912004.CEL 0                           0                          \n",
       "003017912005.CEL 0                           0                          "
      ]
     },
     "metadata": {},
     "output_type": "display_data"
    }
   ],
   "source": [
    "design <- model.matrix(~combn,data=meta)\n",
    "head(design)"
   ]
  },
  {
   "cell_type": "code",
   "execution_count": 82,
   "metadata": {},
   "outputs": [
    {
     "data": {
      "text/html": [
       "'combnLiver.2,4-dinitrophenol.0.3 hr'"
      ],
      "text/latex": [
       "'combnLiver.2,4-dinitrophenol.0.3 hr'"
      ],
      "text/markdown": [
       "'combnLiver.2,4-dinitrophenol.0.3 hr'"
      ],
      "text/plain": [
       "[1] \"combnLiver.2,4-dinitrophenol.0.3 hr\""
      ]
     },
     "metadata": {},
     "output_type": "display_data"
    }
   ],
   "source": [
    "colnames(design.all)[!(colnames(design.all) %in% colnames(design))]"
   ]
  },
  {
   "cell_type": "code",
   "execution_count": 83,
   "metadata": {},
   "outputs": [],
   "source": [
    "fit <- lmFit(eset, design.all) "
   ]
  },
  {
   "cell_type": "code",
   "execution_count": 84,
   "metadata": {},
   "outputs": [],
   "source": [
    "efit <- eBayes(fit)"
   ]
  },
  {
   "cell_type": "code",
   "execution_count": 85,
   "metadata": {},
   "outputs": [
    {
     "data": {
      "text/html": [
       "<ol class=list-inline>\n",
       "\t<li>31099</li>\n",
       "\t<li>2459</li>\n",
       "</ol>\n"
      ],
      "text/latex": [
       "\\begin{enumerate*}\n",
       "\\item 31099\n",
       "\\item 2459\n",
       "\\end{enumerate*}\n"
      ],
      "text/markdown": [
       "1. 31099\n",
       "2. 2459\n",
       "\n",
       "\n"
      ],
      "text/plain": [
       "[1] 31099  2459"
      ]
     },
     "metadata": {},
     "output_type": "display_data"
    }
   ],
   "source": [
    "dim(efit$coefficients)"
   ]
  },
  {
   "cell_type": "code",
   "execution_count": 86,
   "metadata": {},
   "outputs": [
    {
     "data": {
      "text/html": [
       "<table>\n",
       "<thead><tr><th></th><th scope=col>combnLiver.2,4-dinitrophenol.0.3 hr</th><th scope=col>combnLiver.2-nitrofluorene.0.24 hr</th><th scope=col>combnLiver.2-nitrofluorene.100.24 hr</th><th scope=col>combnLiver.2-nitrofluorene.1000.24 hr</th><th scope=col>combnLiver.2-nitrofluorene.300.24 hr</th><th scope=col>combnLiver.2,4-dinitrophenol.0.24 hr</th><th scope=col>combnLiver.2,4-dinitrophenol.0.6 hr</th><th scope=col>combnLiver.2,4-dinitrophenol.0.9 hr</th><th scope=col>combnLiver.2,4-dinitrophenol.20.24 hr</th><th scope=col>combnLiver.2,4-dinitrophenol.20.3 hr</th><th scope=col>...</th><th scope=col>combnLiver.WY-14643.10.6 hr</th><th scope=col>combnLiver.WY-14643.10.9 hr</th><th scope=col>combnLiver.WY-14643.100.24 hr</th><th scope=col>combnLiver.WY-14643.100.3 hr</th><th scope=col>combnLiver.WY-14643.100.6 hr</th><th scope=col>combnLiver.WY-14643.100.9 hr</th><th scope=col>combnLiver.WY-14643.30.24 hr</th><th scope=col>combnLiver.WY-14643.30.3 hr</th><th scope=col>combnLiver.WY-14643.30.6 hr</th><th scope=col>combnLiver.WY-14643.30.9 hr</th></tr></thead>\n",
       "<tbody>\n",
       "\t<tr><th scope=row>AFFX-BioB-5_at</th><td>-1.945064</td><td>-2.185158</td><td>-1.535111</td><td>-1.541417</td><td>-2.168227</td><td>-2.103635</td><td>-1.672510</td><td>-1.766934</td><td>-1.516216</td><td>-1.743224</td><td>...      </td><td>1.247464 </td><td>1.2010801</td><td>0.9787208</td><td>0.9236095</td><td>0.7215124</td><td>1.0808799</td><td>0.9728280</td><td>1.1176877</td><td>0.9120359</td><td>1.0438600</td></tr>\n",
       "\t<tr><th scope=row>AFFX-BioB-M_at</th><td>-1.999618</td><td>-2.117663</td><td>-1.647730</td><td>-1.386378</td><td>-2.096685</td><td>-1.894100</td><td>-1.632984</td><td>-1.531207</td><td>-1.359094</td><td>-1.492627</td><td>...      </td><td>1.224385 </td><td>1.3234951</td><td>0.9459361</td><td>0.8919054</td><td>0.9204960</td><td>0.9875048</td><td>0.9611131</td><td>1.1666071</td><td>0.9474845</td><td>1.1267911</td></tr>\n",
       "\t<tr><th scope=row>AFFX-BioB-3_at</th><td>-2.058968</td><td>-2.171078</td><td>-1.732531</td><td>-1.563418</td><td>-2.537435</td><td>-2.323549</td><td>-1.595197</td><td>-1.624514</td><td>-1.665265</td><td>-1.732541</td><td>...      </td><td>1.256902 </td><td>1.1315748</td><td>1.2722319</td><td>0.9390926</td><td>0.9886886</td><td>1.1199179</td><td>1.1597974</td><td>1.2140237</td><td>0.9944588</td><td>1.1468436</td></tr>\n",
       "\t<tr><th scope=row>AFFX-BioC-5_at</th><td>-2.325103</td><td>-2.063786</td><td>-1.740928</td><td>-1.461285</td><td>-2.334990</td><td>-2.301036</td><td>-1.938655</td><td>-2.031643</td><td>-1.481117</td><td>-1.533320</td><td>...      </td><td>1.042736 </td><td>1.0202054</td><td>0.8816837</td><td>0.7835678</td><td>0.7939845</td><td>0.8501842</td><td>0.9896194</td><td>1.0436444</td><td>0.8916333</td><td>0.9044999</td></tr>\n",
       "\t<tr><th scope=row>AFFX-BioC-3_at</th><td>-2.512402</td><td>-2.254614</td><td>-1.745257</td><td>-1.673157</td><td>-2.364173</td><td>-2.410116</td><td>-1.928565</td><td>-2.070705</td><td>-1.564921</td><td>-1.750057</td><td>...      </td><td>1.135626 </td><td>1.1574768</td><td>1.0289001</td><td>0.9096690</td><td>0.8825078</td><td>1.0770033</td><td>1.0456672</td><td>1.1954264</td><td>1.0633290</td><td>1.0801778</td></tr>\n",
       "\t<tr><th scope=row>AFFX-BioDn-5_at</th><td>-2.332051</td><td>-2.371526</td><td>-1.889826</td><td>-1.872748</td><td>-2.404252</td><td>-2.583090</td><td>-2.073763</td><td>-2.124682</td><td>-1.748896</td><td>-1.737557</td><td>...      </td><td>0.912585 </td><td>0.9158459</td><td>0.7728898</td><td>0.5394924</td><td>0.6099851</td><td>0.6218558</td><td>0.8224290</td><td>0.8578025</td><td>0.7133098</td><td>0.7395261</td></tr>\n",
       "</tbody>\n",
       "</table>\n"
      ],
      "text/latex": [
       "\\begin{tabular}{r|lllllllllllllllllllllllllllllllllllllllllllllllllllllllllllllllllllllllllllllllllllllllllllllllllllllllllllllllllllllllllllllllllllllllllllllllllllllllllllllllllllllllllllllllllllllllllllllllllllllllllllllllllllllllllllllllllllllllllllllllllllllllllllllllllllllllllllllllllllllllllllllllllllllllllllllllllllllllllllllllllllllllllllllllllllllllllllllllllllllllllllllllllllllllllllllllllllllllllllllllllllllllllllllllllllllllllllllllllllllllllllllllllllllllllllllllllllllllllllllllllllllllllllllllllllllllllllllllllllllllllllllllllllllllllllllllllllllllllllllllllllllllllllllllllllllllllllllllllllllllllllllllllllllllllllllllllllllllllllllllllllllllllllllllllllllllllllllllllllllllllllllllllllllllllllllllllllllllllllllllllllllllllllllllllllllllllllllllllllllllllllllllllllllllllllllllllllllllllllllllllllllllllllllllllllllllllllllllllllllllllllllllllllllllllllllllllllllllllllllllllllllllllllllllllllllllllllllllllllllllllllllllllllllllllllllllllllllllllllllllllllllllllllllllllllllllllllllllllllllllllllllllllllllllllllllllllllllllllllllllllllllllllllllllllllllllllllllllllllllllllllllllllllllllllllllllllllllllllllllllllllllllllllllllllllllllllllllllllllllllllllllllllllllllllllllllllllllllllllllllllllllllllllllllllllllllllllllllllllllllllllllllllllllllllllllllllllllllllllllllllllllllllllllllllllllllllllllllllllllllllllllllllllllllllllllllllllllllllllllllllllllllllllllllllllllllllllllllllllllllllllllllllllllllllllllllllllllllllllllllllllllllllllllllllllllllllllllllllllllllllllllllllllllllllllllllllllllllllllllllllllllllllllllllllllllllllllllllllllllllllllllllllllllllllllllllllllllllllllllllllllllllllllllllllllllllllllllllllllllllllllllllllllllllllllllllllllllllllllllllllllllllllllllllllllllllllllllllllllllllllllllllllllllllllllllllllllllllllllllllllllllllllllllllllllllllllllllllllllllllllllllllllllllllllllllllllllllllllllllllllllllllllllllllllllllllllllllllllllllllllllllllllllllllllllllllllllllllllllllllllllllllllllllllllllllllllllllllllllllllllllllllllllllllllllllllllllllllllllllllllllllllllllllllllllllllllllllllllllllllllllllllllllllllllllllllllllllllllllllllllllllllllllllllllllllllllllllllllllllllllllllllllllllllllllllllllllllllllllllllllllllllllllllllllllllllllllllllllllllllllllllllllllllllllllllllllllllllllllllllllllllllllllllllllllllllllllllllllllllllllllllllllllllllllllllllllllllllllllllllllllllllllllllllllllllllllllllllllllllllllllllllllllllllllllllllllllllllllllllllllllllllllllllllllllllllllllllllllllllllllllllllllllllllllll}\n",
       "  & combnLiver.2,4-dinitrophenol.0.3 hr & combnLiver.2-nitrofluorene.0.24 hr & combnLiver.2-nitrofluorene.100.24 hr & combnLiver.2-nitrofluorene.1000.24 hr & combnLiver.2-nitrofluorene.300.24 hr & combnLiver.2,4-dinitrophenol.0.24 hr & combnLiver.2,4-dinitrophenol.0.6 hr & combnLiver.2,4-dinitrophenol.0.9 hr & combnLiver.2,4-dinitrophenol.20.24 hr & combnLiver.2,4-dinitrophenol.20.3 hr & ... & combnLiver.WY-14643.10.6 hr & combnLiver.WY-14643.10.9 hr & combnLiver.WY-14643.100.24 hr & combnLiver.WY-14643.100.3 hr & combnLiver.WY-14643.100.6 hr & combnLiver.WY-14643.100.9 hr & combnLiver.WY-14643.30.24 hr & combnLiver.WY-14643.30.3 hr & combnLiver.WY-14643.30.6 hr & combnLiver.WY-14643.30.9 hr\\\\\n",
       "\\hline\n",
       "\tAFFX-BioB-5\\_at & -1.945064 & -2.185158 & -1.535111 & -1.541417 & -2.168227 & -2.103635 & -1.672510 & -1.766934 & -1.516216 & -1.743224 & ...       & 1.247464  & 1.2010801 & 0.9787208 & 0.9236095 & 0.7215124 & 1.0808799 & 0.9728280 & 1.1176877 & 0.9120359 & 1.0438600\\\\\n",
       "\tAFFX-BioB-M\\_at & -1.999618 & -2.117663 & -1.647730 & -1.386378 & -2.096685 & -1.894100 & -1.632984 & -1.531207 & -1.359094 & -1.492627 & ...       & 1.224385  & 1.3234951 & 0.9459361 & 0.8919054 & 0.9204960 & 0.9875048 & 0.9611131 & 1.1666071 & 0.9474845 & 1.1267911\\\\\n",
       "\tAFFX-BioB-3\\_at & -2.058968 & -2.171078 & -1.732531 & -1.563418 & -2.537435 & -2.323549 & -1.595197 & -1.624514 & -1.665265 & -1.732541 & ...       & 1.256902  & 1.1315748 & 1.2722319 & 0.9390926 & 0.9886886 & 1.1199179 & 1.1597974 & 1.2140237 & 0.9944588 & 1.1468436\\\\\n",
       "\tAFFX-BioC-5\\_at & -2.325103 & -2.063786 & -1.740928 & -1.461285 & -2.334990 & -2.301036 & -1.938655 & -2.031643 & -1.481117 & -1.533320 & ...       & 1.042736  & 1.0202054 & 0.8816837 & 0.7835678 & 0.7939845 & 0.8501842 & 0.9896194 & 1.0436444 & 0.8916333 & 0.9044999\\\\\n",
       "\tAFFX-BioC-3\\_at & -2.512402 & -2.254614 & -1.745257 & -1.673157 & -2.364173 & -2.410116 & -1.928565 & -2.070705 & -1.564921 & -1.750057 & ...       & 1.135626  & 1.1574768 & 1.0289001 & 0.9096690 & 0.8825078 & 1.0770033 & 1.0456672 & 1.1954264 & 1.0633290 & 1.0801778\\\\\n",
       "\tAFFX-BioDn-5\\_at & -2.332051 & -2.371526 & -1.889826 & -1.872748 & -2.404252 & -2.583090 & -2.073763 & -2.124682 & -1.748896 & -1.737557 & ...       & 0.912585  & 0.9158459 & 0.7728898 & 0.5394924 & 0.6099851 & 0.6218558 & 0.8224290 & 0.8578025 & 0.7133098 & 0.7395261\\\\\n",
       "\\end{tabular}\n"
      ],
      "text/markdown": [
       "\n",
       "| <!--/--> | combnLiver.2,4-dinitrophenol.0.3 hr | combnLiver.2-nitrofluorene.0.24 hr | combnLiver.2-nitrofluorene.100.24 hr | combnLiver.2-nitrofluorene.1000.24 hr | combnLiver.2-nitrofluorene.300.24 hr | combnLiver.2,4-dinitrophenol.0.24 hr | combnLiver.2,4-dinitrophenol.0.6 hr | combnLiver.2,4-dinitrophenol.0.9 hr | combnLiver.2,4-dinitrophenol.20.24 hr | combnLiver.2,4-dinitrophenol.20.3 hr | ... | combnLiver.WY-14643.10.6 hr | combnLiver.WY-14643.10.9 hr | combnLiver.WY-14643.100.24 hr | combnLiver.WY-14643.100.3 hr | combnLiver.WY-14643.100.6 hr | combnLiver.WY-14643.100.9 hr | combnLiver.WY-14643.30.24 hr | combnLiver.WY-14643.30.3 hr | combnLiver.WY-14643.30.6 hr | combnLiver.WY-14643.30.9 hr |\n",
       "|---|---|---|---|---|---|---|---|---|---|---|---|---|---|---|---|---|---|---|---|---|---|\n",
       "| AFFX-BioB-5_at | -1.945064 | -2.185158 | -1.535111 | -1.541417 | -2.168227 | -2.103635 | -1.672510 | -1.766934 | -1.516216 | -1.743224 | ...       | 1.247464  | 1.2010801 | 0.9787208 | 0.9236095 | 0.7215124 | 1.0808799 | 0.9728280 | 1.1176877 | 0.9120359 | 1.0438600 |\n",
       "| AFFX-BioB-M_at | -1.999618 | -2.117663 | -1.647730 | -1.386378 | -2.096685 | -1.894100 | -1.632984 | -1.531207 | -1.359094 | -1.492627 | ...       | 1.224385  | 1.3234951 | 0.9459361 | 0.8919054 | 0.9204960 | 0.9875048 | 0.9611131 | 1.1666071 | 0.9474845 | 1.1267911 |\n",
       "| AFFX-BioB-3_at | -2.058968 | -2.171078 | -1.732531 | -1.563418 | -2.537435 | -2.323549 | -1.595197 | -1.624514 | -1.665265 | -1.732541 | ...       | 1.256902  | 1.1315748 | 1.2722319 | 0.9390926 | 0.9886886 | 1.1199179 | 1.1597974 | 1.2140237 | 0.9944588 | 1.1468436 |\n",
       "| AFFX-BioC-5_at | -2.325103 | -2.063786 | -1.740928 | -1.461285 | -2.334990 | -2.301036 | -1.938655 | -2.031643 | -1.481117 | -1.533320 | ...       | 1.042736  | 1.0202054 | 0.8816837 | 0.7835678 | 0.7939845 | 0.8501842 | 0.9896194 | 1.0436444 | 0.8916333 | 0.9044999 |\n",
       "| AFFX-BioC-3_at | -2.512402 | -2.254614 | -1.745257 | -1.673157 | -2.364173 | -2.410116 | -1.928565 | -2.070705 | -1.564921 | -1.750057 | ...       | 1.135626  | 1.1574768 | 1.0289001 | 0.9096690 | 0.8825078 | 1.0770033 | 1.0456672 | 1.1954264 | 1.0633290 | 1.0801778 |\n",
       "| AFFX-BioDn-5_at | -2.332051 | -2.371526 | -1.889826 | -1.872748 | -2.404252 | -2.583090 | -2.073763 | -2.124682 | -1.748896 | -1.737557 | ...       | 0.912585  | 0.9158459 | 0.7728898 | 0.5394924 | 0.6099851 | 0.6218558 | 0.8224290 | 0.8578025 | 0.7133098 | 0.7395261 |\n",
       "\n"
      ],
      "text/plain": [
       "                combnLiver.2,4-dinitrophenol.0.3 hr\n",
       "AFFX-BioB-5_at  -1.945064                          \n",
       "AFFX-BioB-M_at  -1.999618                          \n",
       "AFFX-BioB-3_at  -2.058968                          \n",
       "AFFX-BioC-5_at  -2.325103                          \n",
       "AFFX-BioC-3_at  -2.512402                          \n",
       "AFFX-BioDn-5_at -2.332051                          \n",
       "                combnLiver.2-nitrofluorene.0.24 hr\n",
       "AFFX-BioB-5_at  -2.185158                         \n",
       "AFFX-BioB-M_at  -2.117663                         \n",
       "AFFX-BioB-3_at  -2.171078                         \n",
       "AFFX-BioC-5_at  -2.063786                         \n",
       "AFFX-BioC-3_at  -2.254614                         \n",
       "AFFX-BioDn-5_at -2.371526                         \n",
       "                combnLiver.2-nitrofluorene.100.24 hr\n",
       "AFFX-BioB-5_at  -1.535111                           \n",
       "AFFX-BioB-M_at  -1.647730                           \n",
       "AFFX-BioB-3_at  -1.732531                           \n",
       "AFFX-BioC-5_at  -1.740928                           \n",
       "AFFX-BioC-3_at  -1.745257                           \n",
       "AFFX-BioDn-5_at -1.889826                           \n",
       "                combnLiver.2-nitrofluorene.1000.24 hr\n",
       "AFFX-BioB-5_at  -1.541417                            \n",
       "AFFX-BioB-M_at  -1.386378                            \n",
       "AFFX-BioB-3_at  -1.563418                            \n",
       "AFFX-BioC-5_at  -1.461285                            \n",
       "AFFX-BioC-3_at  -1.673157                            \n",
       "AFFX-BioDn-5_at -1.872748                            \n",
       "                combnLiver.2-nitrofluorene.300.24 hr\n",
       "AFFX-BioB-5_at  -2.168227                           \n",
       "AFFX-BioB-M_at  -2.096685                           \n",
       "AFFX-BioB-3_at  -2.537435                           \n",
       "AFFX-BioC-5_at  -2.334990                           \n",
       "AFFX-BioC-3_at  -2.364173                           \n",
       "AFFX-BioDn-5_at -2.404252                           \n",
       "                combnLiver.2,4-dinitrophenol.0.24 hr\n",
       "AFFX-BioB-5_at  -2.103635                           \n",
       "AFFX-BioB-M_at  -1.894100                           \n",
       "AFFX-BioB-3_at  -2.323549                           \n",
       "AFFX-BioC-5_at  -2.301036                           \n",
       "AFFX-BioC-3_at  -2.410116                           \n",
       "AFFX-BioDn-5_at -2.583090                           \n",
       "                combnLiver.2,4-dinitrophenol.0.6 hr\n",
       "AFFX-BioB-5_at  -1.672510                          \n",
       "AFFX-BioB-M_at  -1.632984                          \n",
       "AFFX-BioB-3_at  -1.595197                          \n",
       "AFFX-BioC-5_at  -1.938655                          \n",
       "AFFX-BioC-3_at  -1.928565                          \n",
       "AFFX-BioDn-5_at -2.073763                          \n",
       "                combnLiver.2,4-dinitrophenol.0.9 hr\n",
       "AFFX-BioB-5_at  -1.766934                          \n",
       "AFFX-BioB-M_at  -1.531207                          \n",
       "AFFX-BioB-3_at  -1.624514                          \n",
       "AFFX-BioC-5_at  -2.031643                          \n",
       "AFFX-BioC-3_at  -2.070705                          \n",
       "AFFX-BioDn-5_at -2.124682                          \n",
       "                combnLiver.2,4-dinitrophenol.20.24 hr\n",
       "AFFX-BioB-5_at  -1.516216                            \n",
       "AFFX-BioB-M_at  -1.359094                            \n",
       "AFFX-BioB-3_at  -1.665265                            \n",
       "AFFX-BioC-5_at  -1.481117                            \n",
       "AFFX-BioC-3_at  -1.564921                            \n",
       "AFFX-BioDn-5_at -1.748896                            \n",
       "                combnLiver.2,4-dinitrophenol.20.3 hr ...\n",
       "AFFX-BioB-5_at  -1.743224                            ...\n",
       "AFFX-BioB-M_at  -1.492627                            ...\n",
       "AFFX-BioB-3_at  -1.732541                            ...\n",
       "AFFX-BioC-5_at  -1.533320                            ...\n",
       "AFFX-BioC-3_at  -1.750057                            ...\n",
       "AFFX-BioDn-5_at -1.737557                            ...\n",
       "                combnLiver.WY-14643.10.6 hr combnLiver.WY-14643.10.9 hr\n",
       "AFFX-BioB-5_at  1.247464                    1.2010801                  \n",
       "AFFX-BioB-M_at  1.224385                    1.3234951                  \n",
       "AFFX-BioB-3_at  1.256902                    1.1315748                  \n",
       "AFFX-BioC-5_at  1.042736                    1.0202054                  \n",
       "AFFX-BioC-3_at  1.135626                    1.1574768                  \n",
       "AFFX-BioDn-5_at 0.912585                    0.9158459                  \n",
       "                combnLiver.WY-14643.100.24 hr combnLiver.WY-14643.100.3 hr\n",
       "AFFX-BioB-5_at  0.9787208                     0.9236095                   \n",
       "AFFX-BioB-M_at  0.9459361                     0.8919054                   \n",
       "AFFX-BioB-3_at  1.2722319                     0.9390926                   \n",
       "AFFX-BioC-5_at  0.8816837                     0.7835678                   \n",
       "AFFX-BioC-3_at  1.0289001                     0.9096690                   \n",
       "AFFX-BioDn-5_at 0.7728898                     0.5394924                   \n",
       "                combnLiver.WY-14643.100.6 hr combnLiver.WY-14643.100.9 hr\n",
       "AFFX-BioB-5_at  0.7215124                    1.0808799                   \n",
       "AFFX-BioB-M_at  0.9204960                    0.9875048                   \n",
       "AFFX-BioB-3_at  0.9886886                    1.1199179                   \n",
       "AFFX-BioC-5_at  0.7939845                    0.8501842                   \n",
       "AFFX-BioC-3_at  0.8825078                    1.0770033                   \n",
       "AFFX-BioDn-5_at 0.6099851                    0.6218558                   \n",
       "                combnLiver.WY-14643.30.24 hr combnLiver.WY-14643.30.3 hr\n",
       "AFFX-BioB-5_at  0.9728280                    1.1176877                  \n",
       "AFFX-BioB-M_at  0.9611131                    1.1666071                  \n",
       "AFFX-BioB-3_at  1.1597974                    1.2140237                  \n",
       "AFFX-BioC-5_at  0.9896194                    1.0436444                  \n",
       "AFFX-BioC-3_at  1.0456672                    1.1954264                  \n",
       "AFFX-BioDn-5_at 0.8224290                    0.8578025                  \n",
       "                combnLiver.WY-14643.30.6 hr combnLiver.WY-14643.30.9 hr\n",
       "AFFX-BioB-5_at  0.9120359                   1.0438600                  \n",
       "AFFX-BioB-M_at  0.9474845                   1.1267911                  \n",
       "AFFX-BioB-3_at  0.9944588                   1.1468436                  \n",
       "AFFX-BioC-5_at  0.8916333                   0.9044999                  \n",
       "AFFX-BioC-3_at  1.0633290                   1.0801778                  \n",
       "AFFX-BioDn-5_at 0.7133098                   0.7395261                  "
      ]
     },
     "metadata": {},
     "output_type": "display_data"
    }
   ],
   "source": [
    "head(efit$coefficients)"
   ]
  },
  {
   "cell_type": "code",
   "execution_count": 54,
   "metadata": {},
   "outputs": [],
   "source": [
    "write.csv(efit$coefficients,file='data/TGGATES/cel/rat/exprs.scaled.csv')"
   ]
  },
  {
   "cell_type": "code",
   "execution_count": 91,
   "metadata": {},
   "outputs": [
    {
     "data": {
      "text/html": [
       "<table>\n",
       "<thead><tr><th></th><th scope=col>003017001013.CEL</th><th scope=col>003017001014.CEL</th><th scope=col>003017001015.CEL</th><th scope=col>003017001001.CEL</th><th scope=col>003017001002.CEL</th><th scope=col>003017001003.CEL</th><th scope=col>003017001004.CEL</th><th scope=col>003017001005.CEL</th><th scope=col>003017001006.CEL</th><th scope=col>003017001010.CEL</th><th scope=col>...</th><th scope=col>003017959019.CEL</th><th scope=col>003017959008.CEL</th><th scope=col>003017959009.CEL</th><th scope=col>003017959010.CEL</th><th scope=col>003017959011.CEL</th><th scope=col>003017959012.CEL</th><th scope=col>003017959013.CEL</th><th scope=col>003017959014.CEL</th><th scope=col>003017959015.CEL</th><th scope=col>003017959016.CEL</th></tr></thead>\n",
       "<tbody>\n",
       "\t<tr><th scope=row>AFFX-BioB-5_at</th><td> 0.01688607 </td><td>0.3340440   </td><td>-0.3509301  </td><td>-0.31387112 </td><td>0.5804824   </td><td>-0.26661132 </td><td>-0.18544545 </td><td>-0.2560254  </td><td>0.4414709   </td><td>0.4604496   </td><td>...         </td><td>0.07383332  </td><td>-0.15017778 </td><td>0.09485999  </td><td> 0.055317789</td><td>-0.15270009 </td><td>-0.004575869</td><td>0.15727596  </td><td>-0.112292936</td><td>-0.01027338 </td><td> 0.12256632 </td></tr>\n",
       "\t<tr><th scope=row>AFFX-BioB-M_at</th><td>-0.21869795 </td><td>0.5271352   </td><td>-0.3084373  </td><td>-0.26027739 </td><td>0.3592691   </td><td>-0.09899175 </td><td>-0.15338802 </td><td>-0.2888034  </td><td>0.4421915   </td><td>0.3883328   </td><td>...         </td><td>0.22050435  </td><td>-0.09953474 </td><td>0.08271803  </td><td> 0.016816716</td><td>-0.09561550 </td><td> 0.036670978</td><td>0.05894452  </td><td>-0.040090233</td><td> 0.05039101 </td><td>-0.01030078 </td></tr>\n",
       "\t<tr><th scope=row>AFFX-BioB-3_at</th><td>-0.35606790 </td><td>0.6449608   </td><td>-0.2888929  </td><td>-0.05153628 </td><td>0.4928698   </td><td>-0.44133351 </td><td>-0.16236992 </td><td>-0.3918591  </td><td>0.5542290   </td><td>0.4155122   </td><td>...         </td><td>0.26303106  </td><td>-0.16713195 </td><td>0.20301433  </td><td>-0.035882379</td><td>-0.05266093 </td><td> 0.037569353</td><td>0.01509157  </td><td>-0.118706186</td><td> 0.13607239 </td><td>-0.01736620 </td></tr>\n",
       "\t<tr><th scope=row>AFFX-BioC-5_at</th><td>-0.26720801 </td><td>0.6231532   </td><td>-0.3559452  </td><td>-0.24836233 </td><td>0.3603101   </td><td>-0.11194782 </td><td>-0.09151912 </td><td>-0.3936988  </td><td>0.4852179   </td><td>0.6671818   </td><td>...         </td><td>0.29120758  </td><td>-0.18179259 </td><td>0.18922498  </td><td>-0.007432393</td><td>-0.12139921 </td><td> 0.033030550</td><td>0.08836866  </td><td>-0.011802557</td><td> 0.10656556 </td><td>-0.09476301 </td></tr>\n",
       "\t<tr><th scope=row>AFFX-BioC-3_at</th><td>-0.25840384 </td><td>0.6704243   </td><td>-0.4120205  </td><td>-0.40079915 </td><td>0.5878682   </td><td>-0.18706910 </td><td> 0.03819494 </td><td>-0.5659113  </td><td>0.5277164   </td><td>0.8016945   </td><td>...         </td><td>0.28829218  </td><td>-0.01170715 </td><td>0.02354417  </td><td>-0.011837016</td><td>-0.16114407 </td><td> 0.129769480</td><td>0.03137459  </td><td>-0.191859703</td><td> 0.09994847 </td><td> 0.09191123 </td></tr>\n",
       "\t<tr><th scope=row>AFFX-BioDn-5_at</th><td>-0.18067157 </td><td>0.4319219   </td><td>-0.2512503  </td><td>-0.22590984 </td><td>0.4180259   </td><td>-0.19211603 </td><td> 0.03621799 </td><td>-0.3574605  </td><td>0.3212426   </td><td>0.6184779   </td><td>...         </td><td>0.19450111  </td><td> 0.03699607 </td><td>0.05292526  </td><td>-0.089921329</td><td>-0.13531209 </td><td> 0.077714424</td><td>0.05759766  </td><td> 0.002056641</td><td> 0.03319950 </td><td>-0.03525614 </td></tr>\n",
       "</tbody>\n",
       "</table>\n"
      ],
      "text/latex": [
       "\\begin{tabular}{r|llllllllllllllllllllllllllllllllllllllllllllllllllllllllllllllllllllllllllllllllllllllllllllllllllllllllllllllllllllllllllllllllllllllllllllllllllllllllllllllllllllllllllllllllllllllllllllllllllllllllllllllllllllllllllllllllllllllllllllllllllllllllllllllllllllllllllllllllllllllllllllllllllllllllllllllllllllllllllllllllllllllllllllllllllllllllllllllllllllllllllllllllllllllllllllllllllllllllllllllllllllllllllllllllllllllllllllllllllllllllllllllllllllllllllllllllllllllllllllllllllllllllllllllllllllllllllllllllllllllllllllllllllllllllllllllllllllllllllllllllllllllllllllllllllllllllllllllllllllllllllllllllllllllllllllllllllllllllllllllllllllllllllllllllllllllllllllllllllllllllllllllllllllllllllllllllllllllllllllllllllllllllllllllllllllllllllllllllllllllllllllllllllllllllllllllllllllllllllllllllllllllllllllllllllllllllllllllllllllllllllllllllllllllllllllllllllllllllllllllllllllllllllllllllllllllllllllllllllllllllllllllllllllllllllllllllllllllllllllllllllllllllllllllllllllllllllllllllllllllllllllllllllllllllllllllllllllllllllllllllllllllllllllllllllllllllllllllllllllllllllllllllllllllllllllllllllllllllllllllllllllllllllllllllllllllllllllllllllllllllllllllllllllllllllllllllllllllllllllllllllllllllllllllllllllllllllllllllllllllllllllllllllllllllllllllllllllllllllllllllllllllllllllllllllllllllllllllllllllllllllllllllllllllllllllllllllllllllllllllllllllllllllllllllllllllllllllllllllllllllllllllllllllllllllllllllllllllllllllllllllllllllllllllllllllllllllllllllllllllllllllllllllllllllllllllllllllllllllllllllllllllllllllllllllllllllllllllllllllllllllllllllllllllllllllllllllllllllllllllllllllllllllllllllllllllllllllllllllllllllllllllllllllllllllllllllllllllllllllllllllllllllllllllllllllllllllllllllllllllllllllllllllllllllllllllllllllllllllllllllllllllllllllllllllllllllllllllllllllllllllllllllllllllllllllllllllllllllllllllllllllllllllllllllllllllllllllllllllllllllllllllllllllllllllllllllllllllllllllllllllllllllllllllllllllllllllllllllllllllllllllllllllllllllllllllllllllllllllllllllllllllllllllllllllllllllllllllllllllllllllllllllllllllllllllllllllllllllllllllllllllllllllllllllllllllllllllllllllllllllllllllllllllllllllllllllllllllllllllllllllllllllllllllllllllllllllllllllllllllllllllllllllllllllllllllllllllllllllllllllllllllllllllllllllllllllllllllllllllllllllllllllllllllllllllllllllllllllllllllllllllllllllllllllllllllllllllllllllllllllllllllllllllllllllllllllllllllllllllllllllllllllllllllllllllllllllllllllllllllllllllllllllllllllllllllllllllllllllllllllllllllllllllllllllllllllllllllllllllllllllllllllllllllllllllllllllllllllllllllllllllllllllllllllllllllllllllllllllllllllllllllllllllllllllllllllllllllllllllllllllllllllllllllllllllllllllllllllllllllllllllllllllllllllllllllllllllllllllllllllllllllllllllllllllllllllllllllllllllllllllllllllllllllllllllllllllllllllllllllllllllllllllllllllllllllllllllllllllllllllllllllllllllllllllllllllllllllllllllllllllllllllllllllllllllllllllllllllllllllllllllllllllllllllllllllllllllllllllllllllllllllllllllllllllllllllllllllllllllllllllllllllllllllllllllllllllllllllllllllllllllllllllllllllllllllllllllllllllllllllllllllllllllllllllllllllllllllllllllllllllllllllllllllllllllllllllllllllllllllllllllllllllllllllllllllllllllllllllllllllllllllllllllllllllllllllllllllllllllllllllllllllllllllllllllllllllllllllllllllllllllllllllllllllllllllllllllllllllllllllllllllllllllllllllllllllllllllllllllllllllllllllllllllllllllllllllllllllllllllllllllllllllllllllllllllllllllllllllllllllllllllllllllllllllllllllllllllllllllllllllllllllllllllllllllllllllllllllllllllllllllllllllllllllllllllllllllllllllllllllllllllllllllllllllllllllllllllllllllllllllllllllllllllllllllllllllllllllllllllllllllllllllllllllllllllllllllllllllllllllllllllllllllllllllllllllllllllllllllllllllllllllllllllllllllllllllllllllllllllllllllllllllllllllllllllllllllllllllllllllllllllllllllllllllllllllllllllllllllllllllllllllllllllllllllllllllllllllllllllllllllllllllllllllllllllllllllllllllllllllllllllllllllllllllllllllllllllllllllllllllllllllllllllllllllllllllllllllllllllllllllllllllllllllllllllllllllllllllllllllllllllllllllllllllllllllllllllllllllllllllllllllllllllllllllllllllllllllllllllllllllllllllllllllllllllllllllllllllllllllllllllllllllllllllllllllllllllllllllllllllllllllllllllllllllllllllllllllllllllllllllllllllllllllllllllllllllllllllllllllllllllllllllllllllllllllllllllllllllllllllllllllllllllllllllllllllllllllllllllllllllllllllllllllllllllllllllllllllllllllllllllllllllllllllllllllllllllllllllllllllllllllllllllllllllllllllllllllllllllllllllllllllllllllllllllllllllllllllllllllllllllllllllllllllllllllllllllllllllllllllllllllllllllllllllllllllllllllllllllllllllllllllllllllllllllllllllllllllllllllllllllllllllllllllllllllllllllllllllllllllllllllllllllllllllllllllllllllllllllllllllllllllllllllllllllllllllllllllllllllllllllllllllllllllllllllllllllllllllllllllllllllllllllllllllllllllllllllllllllllllllllllllllllllllllllllllllllllllllllllllllllllllllllllllllllllllllllllllllllllllllllllllllllllllllllllllllllllllllllllllllllllllllllllllllllllllllllllllllllllllllllllllllllllllllllllllllllllllllllllllllllllllllllllllllllllllllllllllllllllllllllllllllllllllllllllllllllllllllllllllllllllllllllllllllllllllllllllllllllllllllllllllllllllllllllllllllllllllllllllllllllllllllllllllllllllllllllllllllllllllllllllllllllllllllllllllllllllllllllllllllllllllllllllllllllllllllllllllllllllllllllllllllllllllllllllllllllllllllllllllllllllllllllllllllllllllllllllllllllllllllllllllllllllllllllllllllllllllllllllllllllllllllllllllllllllllllllllllllllllllllllllllllllllllllllllllllllllllllllllllllllllllllllllllllllllllllllllllllllllllllllllllllllllllllllllllllllllllllllllllllllllllllllllllllllllllllllllllllllllllllllllllllllllllllllllllllllllllllllllllllllllllllllllllllllllllllllllllllllllllllllllllllllllllllllllllllllllllllllllllllllllllllllllllllllllllllllllllllllllllllllllllllllllllllllllllllllllllllllllllllllllllllllllllllllllllllllllllllllllllllllllllllllllllllllllllllllllllllllllllllllllllllllllllllllllllllllllllllllllllllllllllllllllllllllllllllllllllllllllllllllllllllllllllllllllllllllllllllllllllllllllllllllllllllllllllllllllllllllllllllllllllllllllllllllllllllllllllllllllllllllllllllllllllllllllllllllllllllllllllllllllllllllllllllllllllllllllllllllllllllllllllllllllllllllllllllllllllllllllllllllllllllllllllllllllllllllllllllllllllllllllllllllllllllllllllllllllllllllllllllllllllllllllllllllllllllllllllllllllllllllllllllllllllllllllllllllllllllllllllllllllllllllllllllllllllllllllllllllllllllllllllllllllllllllllllllllllllllllllllllllllllllllllllllllllllllllllllllllllllllllllllllllllllllllllllllllllllllllllllllllllllllllllllllllllllllllllllllllllllllllllllllllllllllllllllllllllllllllllllllllllllllllllllllllllllllllllllllllllllllllllllllllllllllllllllllllllllllllllllllllllllllllllllllllllllllllllllllllllllllllllllllllllllllllllllllllllllllllllllllllllllllllllllllllllllllllllllllllllllllllllllllllllllllllllllllllllllllllllllllllllllllllllllllllllllllllllllllllllllllllllllllllllllllllllllllllllllllllllllllllllllllllllllllllllllllllllllllllllllllllllllllllllllllllllllllllllllllllllllllllllllllllllllllllllllllllllllllllllllllllllllllllllllllllllllllllllllllllllllllllllllllllllllllllllllllllllllllllllllllllllllllllllllllllllllllllllllllllllllllllllllllllllllllllllllllllllllllllllllllllllllllllllllllllllllllllllllllllllllllllllllllllllllllllllllllllllllllllllllllllllllllllllllllllllllllllllllllllllllllllllllllllllll}\n",
       "  & 003017001013.CEL & 003017001014.CEL & 003017001015.CEL & 003017001001.CEL & 003017001002.CEL & 003017001003.CEL & 003017001004.CEL & 003017001005.CEL & 003017001006.CEL & 003017001010.CEL & ... & 003017959019.CEL & 003017959008.CEL & 003017959009.CEL & 003017959010.CEL & 003017959011.CEL & 003017959012.CEL & 003017959013.CEL & 003017959014.CEL & 003017959015.CEL & 003017959016.CEL\\\\\n",
       "\\hline\n",
       "\tAFFX-BioB-5\\_at &  0.01688607  & 0.3340440    & -0.3509301   & -0.31387112  & 0.5804824    & -0.26661132  & -0.18544545  & -0.2560254   & 0.4414709    & 0.4604496    & ...          & 0.07383332   & -0.15017778  & 0.09485999   &  0.055317789 & -0.15270009  & -0.004575869 & 0.15727596   & -0.112292936 & -0.01027338  &  0.12256632 \\\\\n",
       "\tAFFX-BioB-M\\_at & -0.21869795  & 0.5271352    & -0.3084373   & -0.26027739  & 0.3592691    & -0.09899175  & -0.15338802  & -0.2888034   & 0.4421915    & 0.3883328    & ...          & 0.22050435   & -0.09953474  & 0.08271803   &  0.016816716 & -0.09561550  &  0.036670978 & 0.05894452   & -0.040090233 &  0.05039101  & -0.01030078 \\\\\n",
       "\tAFFX-BioB-3\\_at & -0.35606790  & 0.6449608    & -0.2888929   & -0.05153628  & 0.4928698    & -0.44133351  & -0.16236992  & -0.3918591   & 0.5542290    & 0.4155122    & ...          & 0.26303106   & -0.16713195  & 0.20301433   & -0.035882379 & -0.05266093  &  0.037569353 & 0.01509157   & -0.118706186 &  0.13607239  & -0.01736620 \\\\\n",
       "\tAFFX-BioC-5\\_at & -0.26720801  & 0.6231532    & -0.3559452   & -0.24836233  & 0.3603101    & -0.11194782  & -0.09151912  & -0.3936988   & 0.4852179    & 0.6671818    & ...          & 0.29120758   & -0.18179259  & 0.18922498   & -0.007432393 & -0.12139921  &  0.033030550 & 0.08836866   & -0.011802557 &  0.10656556  & -0.09476301 \\\\\n",
       "\tAFFX-BioC-3\\_at & -0.25840384  & 0.6704243    & -0.4120205   & -0.40079915  & 0.5878682    & -0.18706910  &  0.03819494  & -0.5659113   & 0.5277164    & 0.8016945    & ...          & 0.28829218   & -0.01170715  & 0.02354417   & -0.011837016 & -0.16114407  &  0.129769480 & 0.03137459   & -0.191859703 &  0.09994847  &  0.09191123 \\\\\n",
       "\tAFFX-BioDn-5\\_at & -0.18067157  & 0.4319219    & -0.2512503   & -0.22590984  & 0.4180259    & -0.19211603  &  0.03621799  & -0.3574605   & 0.3212426    & 0.6184779    & ...          & 0.19450111   &  0.03699607  & 0.05292526   & -0.089921329 & -0.13531209  &  0.077714424 & 0.05759766   &  0.002056641 &  0.03319950  & -0.03525614 \\\\\n",
       "\\end{tabular}\n"
      ],
      "text/markdown": [
       "\n",
       "| <!--/--> | 003017001013.CEL | 003017001014.CEL | 003017001015.CEL | 003017001001.CEL | 003017001002.CEL | 003017001003.CEL | 003017001004.CEL | 003017001005.CEL | 003017001006.CEL | 003017001010.CEL | ... | 003017959019.CEL | 003017959008.CEL | 003017959009.CEL | 003017959010.CEL | 003017959011.CEL | 003017959012.CEL | 003017959013.CEL | 003017959014.CEL | 003017959015.CEL | 003017959016.CEL |\n",
       "|---|---|---|---|---|---|---|---|---|---|---|---|---|---|---|---|---|---|---|---|---|---|\n",
       "| AFFX-BioB-5_at |  0.01688607  | 0.3340440    | -0.3509301   | -0.31387112  | 0.5804824    | -0.26661132  | -0.18544545  | -0.2560254   | 0.4414709    | 0.4604496    | ...          | 0.07383332   | -0.15017778  | 0.09485999   |  0.055317789 | -0.15270009  | -0.004575869 | 0.15727596   | -0.112292936 | -0.01027338  |  0.12256632  |\n",
       "| AFFX-BioB-M_at | -0.21869795  | 0.5271352    | -0.3084373   | -0.26027739  | 0.3592691    | -0.09899175  | -0.15338802  | -0.2888034   | 0.4421915    | 0.3883328    | ...          | 0.22050435   | -0.09953474  | 0.08271803   |  0.016816716 | -0.09561550  |  0.036670978 | 0.05894452   | -0.040090233 |  0.05039101  | -0.01030078  |\n",
       "| AFFX-BioB-3_at | -0.35606790  | 0.6449608    | -0.2888929   | -0.05153628  | 0.4928698    | -0.44133351  | -0.16236992  | -0.3918591   | 0.5542290    | 0.4155122    | ...          | 0.26303106   | -0.16713195  | 0.20301433   | -0.035882379 | -0.05266093  |  0.037569353 | 0.01509157   | -0.118706186 |  0.13607239  | -0.01736620  |\n",
       "| AFFX-BioC-5_at | -0.26720801  | 0.6231532    | -0.3559452   | -0.24836233  | 0.3603101    | -0.11194782  | -0.09151912  | -0.3936988   | 0.4852179    | 0.6671818    | ...          | 0.29120758   | -0.18179259  | 0.18922498   | -0.007432393 | -0.12139921  |  0.033030550 | 0.08836866   | -0.011802557 |  0.10656556  | -0.09476301  |\n",
       "| AFFX-BioC-3_at | -0.25840384  | 0.6704243    | -0.4120205   | -0.40079915  | 0.5878682    | -0.18706910  |  0.03819494  | -0.5659113   | 0.5277164    | 0.8016945    | ...          | 0.28829218   | -0.01170715  | 0.02354417   | -0.011837016 | -0.16114407  |  0.129769480 | 0.03137459   | -0.191859703 |  0.09994847  |  0.09191123  |\n",
       "| AFFX-BioDn-5_at | -0.18067157  | 0.4319219    | -0.2512503   | -0.22590984  | 0.4180259    | -0.19211603  |  0.03621799  | -0.3574605   | 0.3212426    | 0.6184779    | ...          | 0.19450111   |  0.03699607  | 0.05292526   | -0.089921329 | -0.13531209  |  0.077714424 | 0.05759766   |  0.002056641 |  0.03319950  | -0.03525614  |\n",
       "\n"
      ],
      "text/plain": [
       "                003017001013.CEL 003017001014.CEL 003017001015.CEL\n",
       "AFFX-BioB-5_at   0.01688607      0.3340440        -0.3509301      \n",
       "AFFX-BioB-M_at  -0.21869795      0.5271352        -0.3084373      \n",
       "AFFX-BioB-3_at  -0.35606790      0.6449608        -0.2888929      \n",
       "AFFX-BioC-5_at  -0.26720801      0.6231532        -0.3559452      \n",
       "AFFX-BioC-3_at  -0.25840384      0.6704243        -0.4120205      \n",
       "AFFX-BioDn-5_at -0.18067157      0.4319219        -0.2512503      \n",
       "                003017001001.CEL 003017001002.CEL 003017001003.CEL\n",
       "AFFX-BioB-5_at  -0.31387112      0.5804824        -0.26661132     \n",
       "AFFX-BioB-M_at  -0.26027739      0.3592691        -0.09899175     \n",
       "AFFX-BioB-3_at  -0.05153628      0.4928698        -0.44133351     \n",
       "AFFX-BioC-5_at  -0.24836233      0.3603101        -0.11194782     \n",
       "AFFX-BioC-3_at  -0.40079915      0.5878682        -0.18706910     \n",
       "AFFX-BioDn-5_at -0.22590984      0.4180259        -0.19211603     \n",
       "                003017001004.CEL 003017001005.CEL 003017001006.CEL\n",
       "AFFX-BioB-5_at  -0.18544545      -0.2560254       0.4414709       \n",
       "AFFX-BioB-M_at  -0.15338802      -0.2888034       0.4421915       \n",
       "AFFX-BioB-3_at  -0.16236992      -0.3918591       0.5542290       \n",
       "AFFX-BioC-5_at  -0.09151912      -0.3936988       0.4852179       \n",
       "AFFX-BioC-3_at   0.03819494      -0.5659113       0.5277164       \n",
       "AFFX-BioDn-5_at  0.03621799      -0.3574605       0.3212426       \n",
       "                003017001010.CEL ... 003017959019.CEL 003017959008.CEL\n",
       "AFFX-BioB-5_at  0.4604496        ... 0.07383332       -0.15017778     \n",
       "AFFX-BioB-M_at  0.3883328        ... 0.22050435       -0.09953474     \n",
       "AFFX-BioB-3_at  0.4155122        ... 0.26303106       -0.16713195     \n",
       "AFFX-BioC-5_at  0.6671818        ... 0.29120758       -0.18179259     \n",
       "AFFX-BioC-3_at  0.8016945        ... 0.28829218       -0.01170715     \n",
       "AFFX-BioDn-5_at 0.6184779        ... 0.19450111        0.03699607     \n",
       "                003017959009.CEL 003017959010.CEL 003017959011.CEL\n",
       "AFFX-BioB-5_at  0.09485999        0.055317789     -0.15270009     \n",
       "AFFX-BioB-M_at  0.08271803        0.016816716     -0.09561550     \n",
       "AFFX-BioB-3_at  0.20301433       -0.035882379     -0.05266093     \n",
       "AFFX-BioC-5_at  0.18922498       -0.007432393     -0.12139921     \n",
       "AFFX-BioC-3_at  0.02354417       -0.011837016     -0.16114407     \n",
       "AFFX-BioDn-5_at 0.05292526       -0.089921329     -0.13531209     \n",
       "                003017959012.CEL 003017959013.CEL 003017959014.CEL\n",
       "AFFX-BioB-5_at  -0.004575869     0.15727596       -0.112292936    \n",
       "AFFX-BioB-M_at   0.036670978     0.05894452       -0.040090233    \n",
       "AFFX-BioB-3_at   0.037569353     0.01509157       -0.118706186    \n",
       "AFFX-BioC-5_at   0.033030550     0.08836866       -0.011802557    \n",
       "AFFX-BioC-3_at   0.129769480     0.03137459       -0.191859703    \n",
       "AFFX-BioDn-5_at  0.077714424     0.05759766        0.002056641    \n",
       "                003017959015.CEL 003017959016.CEL\n",
       "AFFX-BioB-5_at  -0.01027338       0.12256632     \n",
       "AFFX-BioB-M_at   0.05039101      -0.01030078     \n",
       "AFFX-BioB-3_at   0.13607239      -0.01736620     \n",
       "AFFX-BioC-5_at   0.10656556      -0.09476301     \n",
       "AFFX-BioC-3_at   0.09994847       0.09191123     \n",
       "AFFX-BioDn-5_at  0.03319950      -0.03525614     "
      ]
     },
     "metadata": {},
     "output_type": "display_data"
    }
   ],
   "source": [
    "exprs.fitted <- do.call(cbind,lapply(colnames(design.all),function(i){\n",
    "    eset@assayData$exprs[,design.all[,i]>0] - efit$coefficients[,i]\n",
    "}))\n",
    "head(exprs.fitted)"
   ]
  },
  {
   "cell_type": "code",
   "execution_count": 92,
   "metadata": {},
   "outputs": [],
   "source": [
    "write.csv(exprs.fitted,file='data/TGGATES/cel/rat/exprs.fitted.csv')"
   ]
  },
  {
   "cell_type": "code",
   "execution_count": 93,
   "metadata": {},
   "outputs": [],
   "source": [
    "write.csv(design.all[colnames(exprs.fitted),],file='data/TGGATES/cel/rat/exprs.design.csv')"
   ]
  },
  {
   "cell_type": "code",
   "execution_count": null,
   "metadata": {},
   "outputs": [],
   "source": []
  }
 ],
 "metadata": {
  "kernelspec": {
   "display_name": "R [conda env:.conda-mouse_learning]",
   "language": "R",
   "name": "conda-env-.conda-mouse_learning-r"
  },
  "language_info": {
   "codemirror_mode": "r",
   "file_extension": ".r",
   "mimetype": "text/x-r-source",
   "name": "R",
   "pygments_lexer": "r",
   "version": "3.6.0"
  }
 },
 "nbformat": 4,
 "nbformat_minor": 4
}
