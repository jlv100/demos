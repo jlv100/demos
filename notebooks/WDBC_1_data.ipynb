{
 "cells": [
  {
   "cell_type": "markdown",
   "metadata": {},
   "source": [
    "# Data source: \"WDBC\"\n",
    "\n",
    "### W.N. Street, W.H. Wolberg and O.L. Mangasarian. Nuclear feature extraction for breast tumor diagnosis. IS&T/SPIE 1993 International Symposium on Electronic Imaging: Science and Technology, San Jose, CA, 1993. \n",
    "* [paper](https://www.researchgate.net/publication/2512520_Nuclear_Feature_Extraction_For_Breast_Tumor_Diagnosis)\n",
    "* [Dataset](https://archive.ics.uci.edu/ml/machine-learning-databases/breast-cancer-wisconsin)"
   ]
  },
  {
   "cell_type": "code",
   "execution_count": 1,
   "metadata": {},
   "outputs": [
    {
     "name": "stderr",
     "output_type": "stream",
     "text": [
      "--2020-02-06 20:26:33--  https://archive.ics.uci.edu/ml/machine-learning-databases/breast-cancer-wisconsin/wdbc.data\n",
      "Resolving archive.ics.uci.edu (archive.ics.uci.edu)... 128.195.10.252\n",
      "Connecting to archive.ics.uci.edu (archive.ics.uci.edu)|128.195.10.252|:443... connected.\n",
      "HTTP request sent, awaiting response... 200 OK\n",
      "Length: 124103 (121K) [application/x-httpd-php]\n",
      "Saving to: ‘wdbc.data.3’\n",
      "\n",
      "     0K .......... .......... .......... .......... .......... 41%  451K 0s\n",
      "    50K .......... .......... .......... .......... .......... 82%  823K 0s\n",
      "   100K .......... .......... .                               100%  177M=0.2s\n",
      "\n",
      "2020-02-06 20:26:34 (706 KB/s) - ‘wdbc.data.3’ saved [124103/124103]\n",
      "\n"
     ]
    }
   ],
   "source": [
    "%%bash\n",
    "cd data\n",
    "wget \"https://archive.ics.uci.edu/ml/machine-learning-databases/breast-cancer-wisconsin/wdbc.data\""
   ]
  },
  {
   "cell_type": "code",
   "execution_count": 2,
   "metadata": {},
   "outputs": [
    {
     "name": "stdout",
     "output_type": "stream",
     "text": [
      "Overwriting data/wdbc.header\n"
     ]
    }
   ],
   "source": [
    "%%file data/wdbc.header\n",
    "id\n",
    "diagnosis\n",
    "radius\n",
    "texture\n",
    "perimeter\n",
    "area\n",
    "smoothness\n",
    "compactness\n",
    "concavity\n",
    "concave points\n",
    "symmetry \n",
    "fractal dimension"
   ]
  }
 ],
 "metadata": {
  "kernelspec": {
   "display_name": "Python [conda env:breast_cancer]",
   "language": "python",
   "name": "conda-env-breast_cancer-py"
  },
  "language_info": {
   "codemirror_mode": {
    "name": "ipython",
    "version": 3
   },
   "file_extension": ".py",
   "mimetype": "text/x-python",
   "name": "python",
   "nbconvert_exporter": "python",
   "pygments_lexer": "ipython3",
   "version": "3.8.1"
  }
 },
 "nbformat": 4,
 "nbformat_minor": 4
}
