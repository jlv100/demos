{
 "cells": [
  {
   "cell_type": "markdown",
   "metadata": {},
   "source": [
    "# Demo Notebooks\n",
    "\n",
    "1. Deep Learning on Images\n",
    "    * [Field Location Prediction](\"Field Location Prediction.ipynb\")\n",
    "    * ![data/Bolivia.png]() ![data/Brazil.png] ![data/Germany.png] ![data/KS.png] ![data/MN.png] ![data/Thailand.png]\n",
    "2. Advanced Feature Selection\n",
    "    * [LIME demo](\"LIME demo.ipynb\")\n"
   ]
  },
  {
   "cell_type": "code",
   "execution_count": 26,
   "metadata": {},
   "outputs": [
    {
     "name": "stdout",
     "output_type": "stream",
     "text": [
      "1-1.xlsx\n",
      "1.xlsx\n",
      "10-1.xlsx\n",
      "10.xlsx\n",
      "11-1.xlsx\n",
      "11.xlsx\n",
      "12-1.xlsx\n",
      "12.xlsx\n",
      "13-1.xlsx\n",
      "13.xlsx\n",
      "14.xlsx\n",
      "15.xlsx\n",
      "16.xlsx\n",
      "2-1.xlsx\n",
      "2.xlsx\n",
      "3-1.xlsx\n",
      "3.xlsx\n",
      "4-1.xlsx\n",
      "4.xlsx\n",
      "5-1.xlsx\n",
      "5.xlsx\n",
      "6-1.xlsx\n",
      "6.xlsx\n",
      "7-1.xlsx\n",
      "7.xlsx\n",
      "8-1.xlsx\n",
      "8.xlsx\n",
      "9-1.xlsx\n",
      "9.xlsx\n",
      "Tank 1-Data Description.xlsx\n",
      "Tank 2-Data Description.xlsx\n",
      "water_usage.zip\n"
     ]
    }
   ],
   "source": [
    "%%bash\n",
    "\n",
    "cd data\n",
    "#wget \"https://data.mendeley.com/datasets/k5g8pmsd72/5/files/98ac1e82-a488-4f7b-a83f-3ac43d3792a7/cat_breastcancer.csv?dl=1\" -O cat_breastcancer.csv\n",
    "#wget \"https://data.mendeley.com/datasets/k5g8pmsd72/5/files/c2bce90c-09e3-4dea-b6b8-60c6b67d7649/mixed_SD10K.csv?dl=1\" -O mixed_SD10K.csv\n",
    "#wget \"https://archive.ics.uci.edu/ml/machine-learning-databases/breast-cancer-wisconsin/wdbc.data\"\n",
    "#wget \"https://archive.ics.uci.edu/ml/machine-learning-databases/breast-cancer-wisconsin/wpbc.data\"\n",
    "\n",
    "#wget -q \"https://data.mendeley.com/archiver/2yjwrft6nr?version=1\" -O water_usage.zip\n",
    "mkdir -p water_usage\n",
    "#mv water_usage.zip water_usage/\n",
    "cd water_usage\n",
    "#unzip water_usage.zip\n",
    "ls"
   ]
  },
  {
   "cell_type": "code",
   "execution_count": 12,
   "metadata": {},
   "outputs": [
    {
     "name": "stdout",
     "output_type": "stream",
     "text": [
      "Writing data/wdbc.header\n"
     ]
    }
   ],
   "source": [
    "%%file data/wdbc.header\n",
    "id\n",
    "diagnosis\n",
    "radius\n",
    "texture\n",
    "perimeter\n",
    "area\n",
    "smoothness\n",
    "compactness\n",
    "concavity\n",
    "concave points\n",
    "symmetry \n",
    "fractal dimension"
   ]
  },
  {
   "cell_type": "code",
   "execution_count": 10,
   "metadata": {},
   "outputs": [
    {
     "name": "stdout",
     "output_type": "stream",
     "text": [
      "﻿A-4RN,B-2RN,C-6RN,D-5RN,E-10RO,F-20RO,   Class\n",
      "d,b,f,e,7,14,c2\n",
      "b,b,c,e,6,13,c2\n",
      "b,b,c,e,2,13,c2\n",
      "a,b,a,b,5,13,c1\n",
      "c,a,f,d,2,14,c2\n",
      "d,b,f,?,?,14,c2\n",
      "a,a,c,e,1,14,c2\n",
      "b,a,?,?,?,12,c1\n",
      "c,b,a,c,5,14,c1\n"
     ]
    }
   ],
   "source": [
    "!head data/mixed_SD10K.csv"
   ]
  },
  {
   "cell_type": "code",
   "execution_count": 8,
   "metadata": {},
   "outputs": [
    {
     "name": "stdout",
     "output_type": "stream",
     "text": [
      "30-39,premeno,30-34,0-2,no,3,left,left_low,no,no-recurrence-events.\n",
      "40-49,premeno,20-24,0-2,no,2,right,right_up,no,no-recurrence-events.\n",
      "40-49,premeno,20-24,0-2,no,2,left,left_low,no,no-recurrence-events.\n",
      "60-69,ge40,15-19,0-2,no,2,right,left_up,no,no-recurrence-events.\n",
      "40-49,premeno,0-4,0-2,no,2,right,right_low,no,no-recurrence-events.\n",
      "60-69,ge40,15-19,0-2,no,2,left,left_low,no,no-recurrence-events.\n",
      "50-59,premeno,25-29,0-2,no,2,left,left_low,no,no-recurrence-events.\n",
      "60-69,ge40,20-24,0-2,no,1,left,left_low,no,no-recurrence-events.\n",
      "40-49,premeno,50-54,0-2,no,2,left,left_low,no,no-recurrence-events.\n",
      "40-49,premeno,20-24,0-2,no,2,right,left_up,no,no-recurrence-events.\n"
     ]
    }
   ],
   "source": [
    "!head data/cat_breastcancer.csv"
   ]
  }
 ],
 "metadata": {
  "kernelspec": {
   "display_name": "Python 3",
   "language": "python",
   "name": "python3"
  },
  "language_info": {
   "codemirror_mode": {
    "name": "ipython",
    "version": 3
   },
   "file_extension": ".py",
   "mimetype": "text/x-python",
   "name": "python",
   "nbconvert_exporter": "python",
   "pygments_lexer": "ipython3",
   "version": "3.7.6"
  }
 },
 "nbformat": 4,
 "nbformat_minor": 2
}
